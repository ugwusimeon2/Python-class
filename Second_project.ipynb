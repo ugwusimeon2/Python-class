{
  "cells": [
    {
      "cell_type": "markdown",
      "metadata": {
        "id": "bUbh_pNcnaf-"
      },
      "source": [
        "# Module 2: Control Flow Assignments\n",
        "## Lesson 2.1: Conditional Statements\n",
        "### Assignment 1: Simple if Statement\n",
        "\n",
        "Write a program that asks the user to input a number and prints whether the number is positive.\n",
        "\n",
        "### Assignment 2: if-else Statement\n",
        "\n",
        "Write a program that asks the user to input a number and prints whether the number is positive or negative.\n",
        "\n",
        "### Assignment 3: if-elif-else Statement\n",
        "\n",
        "Write a program that asks the user to input a number and prints whether the number is positive, negative, or zero.\n",
        "\n",
        "### Assignment 4: Nested if Statement\n",
        "\n",
        "Write a program that asks the user to input a number and prints whether the number is positive and even, positive and odd, or negative.\n",
        "\n",
        "## Lesson 2.2: Loops\n",
        "### Assignment 5: for Loop\n",
        "\n",
        "Write a program that prints all the numbers from 1 to 10 using a for loop.\n",
        "\n",
        "### Assignment 6: while Loop\n",
        "\n",
        "Write a program that prints all the numbers from 1 to 10 using a while loop.\n",
        "\n",
        "### Assignment 7: Nested Loops\n",
        "\n",
        "Write a program that prints a 5x5 grid of asterisks (*) using nested loops.\n",
        "\n",
        "### Assignment 8: break Statement\n",
        "\n",
        "Write a program that asks the user to input numbers until they input 0. The program should print the sum of all the input numbers.\n",
        "\n",
        "### Assignment 9: continue Statement\n",
        "\n",
        "Write a program that prints all the numbers from 1 to 10 except 5 using a for loop and continue statement.\n",
        "\n",
        "### Assignment 10: pass Statement\n",
        "\n",
        "Write a program that defines an empty function using the pass statement.\n",
        "\n",
        "### Assignment 11: Combining Loops and Conditionals\n",
        "\n",
        "Write a program that asks the user to input a number and prints all the even numbers from 1 to that number using a for loop.\n",
        "\n",
        "### Assignment 12: Factorial Calculation\n",
        "\n",
        "Write a program that calculates the factorial of a number input by the user using a while loop.\n",
        "\n",
        "### Assignment 13: Sum of Digits\n",
        "\n",
        "Write a program that calculates the sum of the digits of a number input by the user using a while loop.\n",
        "\n",
        "### Assignment 14: Prime Number Check\n",
        "\n",
        "Write a program that checks if a number input by the user is a prime number using a for loop.\n",
        "\n",
        "### Assignment 15: Fibonacci Sequence\n",
        "\n",
        "Write a program that prints the first n Fibonacci numbers, where n is input by the user."
      ],
      "id": "bUbh_pNcnaf-"
    },
    {
      "cell_type": "code",
      "execution_count": 6,
      "metadata": {
        "colab": {
          "base_uri": "https://localhost:8080/"
        },
        "id": "TZyvPSvInagA",
        "outputId": "0c03112b-f75b-4777-8aec-465b5fed0b6f"
      },
      "outputs": [
        {
          "output_type": "stream",
          "name": "stdout",
          "text": [
            "Enter a number3\n",
            "postive\n"
          ]
        }
      ],
      "source": [
        "##Write a program that asks the user to input a number and prints whether the number is positive.\n",
        "\n",
        "Number = float(input(\"Enter a number\"))\n",
        "if Number>0:\n",
        "  print(\"postive\")\n"
      ],
      "id": "TZyvPSvInagA"
    },
    {
      "cell_type": "code",
      "source": [
        "## Write a program that asks the user to input a number and prints whether the number is positive or negative.\n",
        "\n",
        "number = float(input(\"enter a number\"))\n",
        "if number > 0:\n",
        "   print(\"positive\")\n",
        "else:\n",
        "   print(\"negative\")"
      ],
      "metadata": {
        "colab": {
          "base_uri": "https://localhost:8080/"
        },
        "id": "r6dBzMh6olBg",
        "outputId": "a9a28e30-a4a5-4012-8f7d-2d860dc917ad"
      },
      "id": "r6dBzMh6olBg",
      "execution_count": 9,
      "outputs": [
        {
          "output_type": "stream",
          "name": "stdout",
          "text": [
            "enter a number-10\n",
            "negative\n"
          ]
        }
      ]
    },
    {
      "cell_type": "code",
      "source": [
        "## Write a program that asks the user to input a number and prints whether the number is positive, negative, or zero.\n",
        "\n",
        "number = float(input(\"enter a number\"))\n",
        "\n",
        "if number > 0:\n",
        "   print(\"positve\")\n",
        "elif number < 0:\n",
        "  print (\"negative\")\n",
        "else:\n",
        "  print (\"zero\")"
      ],
      "metadata": {
        "colab": {
          "base_uri": "https://localhost:8080/"
        },
        "id": "Yz1cuUOLpMcy",
        "outputId": "9129fc89-f20e-490c-a97e-3741c7185fa5"
      },
      "id": "Yz1cuUOLpMcy",
      "execution_count": 10,
      "outputs": [
        {
          "output_type": "stream",
          "name": "stdout",
          "text": [
            "enter a number3\n",
            "positve\n"
          ]
        }
      ]
    },
    {
      "cell_type": "code",
      "source": [
        "## Write a program that asks the user to input a number and prints whether the number is positive and even, positive and odd, or negative.\n",
        "\n",
        "number = float(input(\"enter a number\"))\n",
        "\n",
        "if number>0:\n",
        "\n",
        "  if number % 2==0:\n",
        "       print(\"positve and even\")\n",
        "  else:\n",
        "       print(\"negative and odd\")\n",
        "else:\n",
        "    print(\"negative\")"
      ],
      "metadata": {
        "colab": {
          "base_uri": "https://localhost:8080/"
        },
        "id": "iiLzRCmEr3it",
        "outputId": "368ebc10-f3dc-4aab-d148-c274a5897574"
      },
      "id": "iiLzRCmEr3it",
      "execution_count": 12,
      "outputs": [
        {
          "output_type": "stream",
          "name": "stdout",
          "text": [
            "enter a number10\n",
            "positve and even\n"
          ]
        }
      ]
    },
    {
      "cell_type": "code",
      "source": [
        "## Write a program that prints all the numbers from 1 to 10 using a for loop.\n",
        "\n",
        "for a in range(1, 11):\n",
        "\n",
        "  print(a)"
      ],
      "metadata": {
        "colab": {
          "base_uri": "https://localhost:8080/"
        },
        "id": "_atiWSSSu2JP",
        "outputId": "7e8408ab-7fe8-424a-a0d8-fd2a27cc8bba"
      },
      "id": "_atiWSSSu2JP",
      "execution_count": 13,
      "outputs": [
        {
          "output_type": "stream",
          "name": "stdout",
          "text": [
            "1\n",
            "2\n",
            "3\n",
            "4\n",
            "5\n",
            "6\n",
            "7\n",
            "8\n",
            "9\n",
            "10\n"
          ]
        }
      ]
    },
    {
      "cell_type": "code",
      "source": [
        "## Write a program that prints all the numbers from 1 to 10 using a while loop.\n",
        "a=1\n",
        "while a<=10:\n",
        "  print(a)\n",
        "  a=a+1"
      ],
      "metadata": {
        "colab": {
          "base_uri": "https://localhost:8080/"
        },
        "id": "SMgtwx6qv27a",
        "outputId": "fba3d345-66ce-43c5-ac93-8225c3b98ff8"
      },
      "id": "SMgtwx6qv27a",
      "execution_count": 2,
      "outputs": [
        {
          "output_type": "stream",
          "name": "stdout",
          "text": [
            "1\n",
            "2\n",
            "3\n",
            "4\n",
            "5\n",
            "6\n",
            "7\n",
            "8\n",
            "9\n",
            "10\n"
          ]
        }
      ]
    },
    {
      "cell_type": "code",
      "source": [
        "## Write a program that prints a 5x5 grid of asterisks (*) using nested loops\n",
        "\n",
        "for a in range(5):\n",
        "  for j in range(5):\n",
        "    print(\"*\",end=\"\")\n",
        "  print()"
      ],
      "metadata": {
        "colab": {
          "base_uri": "https://localhost:8080/"
        },
        "id": "JcDkJN8cw4sL",
        "outputId": "44fcf194-79b9-4ca1-aae9-f517241887ff"
      },
      "id": "JcDkJN8cw4sL",
      "execution_count": 3,
      "outputs": [
        {
          "output_type": "stream",
          "name": "stdout",
          "text": [
            "*****\n",
            "*****\n",
            "*****\n",
            "*****\n",
            "*****\n"
          ]
        }
      ]
    },
    {
      "cell_type": "code",
      "source": [
        "## Write a program that asks the user to input numbers until they input 0. The program should print the sum of all the input numbers.\n",
        "\n",
        "total = 0\n",
        "while True:\n",
        "      num = float(input(\"enter a number (0 to stop):\"))\n",
        "      if num==0:\n",
        "        break\n",
        "      total=total+num\n",
        "print(\"sum is:\", total)"
      ],
      "metadata": {
        "colab": {
          "base_uri": "https://localhost:8080/"
        },
        "id": "aOv5mAYL1Ygf",
        "outputId": "7b1bac6f-835f-41c8-dba1-dbbe3d510d8e"
      },
      "id": "aOv5mAYL1Ygf",
      "execution_count": 8,
      "outputs": [
        {
          "output_type": "stream",
          "name": "stdout",
          "text": [
            "enter a number (0 to stop):10\n",
            "enter a number (0 to stop):30\n",
            "enter a number (0 to stop):40\n",
            "enter a number (0 to stop):50\n",
            "enter a number (0 to stop):60\n",
            "enter a number (0 to stop):0\n",
            "sum is: 190.0\n"
          ]
        }
      ]
    },
    {
      "cell_type": "code",
      "source": [
        "## Write a program that prints all the numbers from 1 to 10 except 5 using a for loop and continue statement.\n",
        "\n",
        "for a in range(1, 11):\n",
        "    if a==5:\n",
        "        continue\n",
        "    print(a)"
      ],
      "metadata": {
        "colab": {
          "base_uri": "https://localhost:8080/"
        },
        "id": "hojsCQTm4CRp",
        "outputId": "97a67434-e314-43e3-991e-2fcccf4292e1"
      },
      "id": "hojsCQTm4CRp",
      "execution_count": 11,
      "outputs": [
        {
          "output_type": "stream",
          "name": "stdout",
          "text": [
            "1\n",
            "2\n",
            "3\n",
            "4\n",
            "6\n",
            "7\n",
            "8\n",
            "9\n",
            "10\n"
          ]
        }
      ]
    },
    {
      "cell_type": "code",
      "source": [
        "## Write a program that defines an empty function using the pass statement.\n",
        "\n",
        "def my_function():\n",
        "  pass"
      ],
      "metadata": {
        "id": "tVLVVBpX61Vp"
      },
      "id": "tVLVVBpX61Vp",
      "execution_count": 12,
      "outputs": []
    },
    {
      "cell_type": "code",
      "source": [
        "##Write a program that asks the user to input a number and prints all the even numbers from 1 to that number using a for loop\n",
        "\n",
        "n = int(input(\"enter a number:\"))\n",
        "for i in range(1, n+1):\n",
        "  if i %2==0:\n",
        "    print(i)"
      ],
      "metadata": {
        "colab": {
          "base_uri": "https://localhost:8080/"
        },
        "id": "X9SX5nUr80KN",
        "outputId": "46de633a-e4ac-4b7b-c983-1df5a7ad3577"
      },
      "id": "X9SX5nUr80KN",
      "execution_count": 14,
      "outputs": [
        {
          "output_type": "stream",
          "name": "stdout",
          "text": [
            "enter a number:11\n",
            "2\n",
            "4\n",
            "6\n",
            "8\n",
            "10\n"
          ]
        }
      ]
    },
    {
      "cell_type": "code",
      "source": [
        "## Write a program that calculates the factorial of a number input by the user using a while loop.\n",
        "\n",
        "n = int(input(\"enter a number:\"))\n",
        "factorial = 1\n",
        "a = 1\n",
        "while a <=n:\n",
        "  factorial=factorial*a\n",
        "  a=a+1\n",
        "print(\"factorial is:\", factorial)"
      ],
      "metadata": {
        "colab": {
          "base_uri": "https://localhost:8080/"
        },
        "id": "UowvyPZO-XAK",
        "outputId": "9ebbd84b-3436-47ff-9478-82c101ea7668"
      },
      "id": "UowvyPZO-XAK",
      "execution_count": 4,
      "outputs": [
        {
          "output_type": "stream",
          "name": "stdout",
          "text": [
            "enter a number:5\n",
            "factorial is: 120\n"
          ]
        }
      ]
    },
    {
      "cell_type": "code",
      "source": [
        "## Write a program that calculates the sum of the digits of a number input by the user using a while loop.\n",
        "\n",
        "number = int(input(\"Enter a number: \"))\n",
        "total = 0\n",
        "while number > 0:\n",
        "    digit = number % 10  # Gets the last digit (leftover from dividing by 10)\n",
        "    total = total + digit\n",
        "    number = number // 10  # Removes the last digit (whole division by 10)\n",
        "print(\"Sum of digits is:\", total)"
      ],
      "metadata": {
        "colab": {
          "base_uri": "https://localhost:8080/"
        },
        "id": "JRI9WhSCi--W",
        "outputId": "b0277a7c-37f7-4a11-e303-2ff24fcafa91"
      },
      "id": "JRI9WhSCi--W",
      "execution_count": 5,
      "outputs": [
        {
          "output_type": "stream",
          "name": "stdout",
          "text": [
            "Enter a number: 5\n",
            "Sum of digits is: 5\n"
          ]
        }
      ]
    },
    {
      "cell_type": "code",
      "source": [
        "## Write a program that checks if a number input by the user is a prime number using a for loop\n",
        "\n",
        "n = int(input(\"Enter a number: \"))\n",
        "if n <= 1:\n",
        "    print(n, \"is not prime\")\n",
        "else:\n",
        "    is_prime = True\n",
        "    for i in range(2, int(n**0.5) + 1):\n",
        "        if n % i == 0:\n",
        "            is_prime = False\n",
        "            break\n",
        "    if is_prime:\n",
        "        print(n, \"is prime\")\n",
        "    else:\n",
        "        print(n, \"is not prime\")"
      ],
      "metadata": {
        "colab": {
          "base_uri": "https://localhost:8080/"
        },
        "id": "wyv5qIaXkcAT",
        "outputId": "01defc64-7e22-4f63-839c-fbdff61f2a7b"
      },
      "id": "wyv5qIaXkcAT",
      "execution_count": 7,
      "outputs": [
        {
          "output_type": "stream",
          "name": "stdout",
          "text": [
            "Enter a number: 5\n",
            "5 is prime\n"
          ]
        }
      ]
    },
    {
      "cell_type": "code",
      "source": [
        "## Write a program that prints the first n Fibonacci numbers, where n is input by the user.\n",
        "\n",
        "n = int(input(\"Enter a number: \"))\n",
        "if n <= 0:\n",
        "    print(\"Please enter a positive number\")\n",
        "else:\n",
        "    a = 0\n",
        "    b = 1\n",
        "    count = 0\n",
        "    while count < n:\n",
        "        print(a)\n",
        "        next_num = a + b\n",
        "        a = b\n",
        "        b = next_num\n",
        "        count = count + 1"
      ],
      "metadata": {
        "colab": {
          "base_uri": "https://localhost:8080/"
        },
        "id": "UInLda2BksnP",
        "outputId": "f9ef4069-f401-486c-ba82-f81bd8882311"
      },
      "id": "UInLda2BksnP",
      "execution_count": 8,
      "outputs": [
        {
          "output_type": "stream",
          "name": "stdout",
          "text": [
            "Enter a number: 10\n",
            "0\n",
            "1\n",
            "1\n",
            "2\n",
            "3\n",
            "5\n",
            "8\n",
            "13\n",
            "21\n",
            "34\n"
          ]
        }
      ]
    },
    {
      "cell_type": "code",
      "source": [],
      "metadata": {
        "id": "Mt574AzulDjC"
      },
      "id": "Mt574AzulDjC",
      "execution_count": null,
      "outputs": []
    }
  ],
  "metadata": {
    "kernelspec": {
      "display_name": "Python 3",
      "language": "python",
      "name": "python3"
    },
    "language_info": {
      "codemirror_mode": {
        "name": "ipython",
        "version": 3
      },
      "file_extension": ".py",
      "mimetype": "text/x-python",
      "name": "python",
      "nbconvert_exporter": "python",
      "pygments_lexer": "ipython3",
      "version": "3.9.7"
    },
    "colab": {
      "provenance": []
    }
  },
  "nbformat": 4,
  "nbformat_minor": 5
}