{
  "cells": [
    {
      "cell_type": "markdown",
      "metadata": {
        "id": "view-in-github",
        "colab_type": "text"
      },
      "source": [
        "<a href=\"https://colab.research.google.com/github/ugwusimeon2/Python-class/blob/main/sets_assignment.ipynb\" target=\"_parent\"><img src=\"https://colab.research.google.com/assets/colab-badge.svg\" alt=\"Open In Colab\"/></a>"
      ]
    },
    {
      "cell_type": "markdown",
      "metadata": {
        "id": "lxBl5lNtPo8t"
      },
      "source": [
        "# Module 3: Data Structures Assignments\n",
        "## Lesson 3.3: Sets\n",
        "### Assignment 1: Creating and Accessing Sets\n",
        "\n",
        "Create a set with the first 10 positive integers. Print the set.\n",
        "\n",
        "### Assignment 2: Adding and Removing Elements\n",
        "\n",
        "Add the number 11 to the set created in Assignment 1. Then remove the number 1 from the set. Print the modified set.\n",
        "\n",
        "### Assignment 3: Set Operations\n",
        "\n",
        "Create two sets: one with the first 5 positive integers and another with the first 5 even integers. Perform and print the results of union, intersection, difference, and symmetric difference operations on these sets.\n",
        "\n",
        "### Assignment 4: Set Comprehensions\n",
        "\n",
        "Create a new set containing the squares of the first 10 positive integers using a set comprehension. Print the new set.\n",
        "\n",
        "### Assignment 5: Filtering Sets\n",
        "\n",
        "Create a new set containing only the even numbers from the set created in Assignment 1 using a set comprehension. Print the new set.\n",
        "\n",
        "### Assignment 6: Set Methods\n",
        "\n",
        "Create a set with duplicate elements and remove the duplicates using set methods. Print the modified set.\n",
        "\n",
        "### Assignment 7: Subsets and Supersets\n",
        "\n",
        "Create two sets: one with the first 5 positive integers and another with the first 3 positive integers. Check if the second set is a subset of the first set and if the first set is a superset of the second set. Print the results.\n",
        "\n",
        "### Assignment 8: Frozenset\n",
        "\n",
        "Create a frozenset with the first 5 positive integers. Print the frozenset.\n",
        "\n",
        "### Assignment 9: Set and List Conversion\n",
        "\n",
        "Create a set with the first 5 positive integers. Convert it to a list, append the number 6, and convert it back to a set. Print the resulting set.\n",
        "\n",
        "### Assignment 10: Set and Dictionary\n",
        "\n",
        "Create a dictionary with set keys and integer values. Print the dictionary.\n",
        "\n",
        "### Assignment 11: Iterating Over Sets\n",
        "\n",
        "Create a set and iterate over the elements, printing each element.\n",
        "\n",
        "### Assignment 12: Removing Elements from Sets\n",
        "\n",
        "Create a set and remove elements from it until it is empty. Print the set after each removal.\n",
        "\n",
        "### Assignment 13: Set Symmetric Difference Update\n",
        "\n",
        "Create two sets and update the first set with the symmetric difference of the two sets. Print the modified first set.\n",
        "\n",
        "### Assignment 14: Set Membership Testing\n",
        "\n",
        "Create a set and test if certain elements are present in the set. Print the results.\n",
        "\n",
        "### Assignment 15: Set of Tuples\n",
        "\n",
        "Create a set containing tuples, where each tuple contains two elements. Print the set."
      ],
      "id": "lxBl5lNtPo8t"
    },
    {
      "cell_type": "code",
      "execution_count": 2,
      "metadata": {
        "colab": {
          "base_uri": "https://localhost:8080/"
        },
        "id": "vjZ_NDcIPo8u",
        "outputId": "c052a744-b015-4d56-e721-a1fec3c64dfc"
      },
      "outputs": [
        {
          "output_type": "stream",
          "name": "stdout",
          "text": [
            "{1, 2, 3, 4, 5, 6, 7, 8, 9, 10}\n"
          ]
        }
      ],
      "source": [
        "## Create a set with the first 10 positive integers. Print the set\n",
        "\n",
        "My_set={1,2,3,4,5,6,7,8,9,10}\n",
        "print(My_set)"
      ],
      "id": "vjZ_NDcIPo8u"
    },
    {
      "cell_type": "code",
      "source": [
        "## Add the number 11 to the set created in Assignment 1. Then remove the number 1 from the set. Print the modified set.\n",
        "\n",
        "My_set.add(11)\n",
        "My_set.remove(1)\n",
        "print(My_set)"
      ],
      "metadata": {
        "colab": {
          "base_uri": "https://localhost:8080/"
        },
        "id": "Xkvc_If8RDjw",
        "outputId": "2a7af054-9d2c-4ec1-9ae5-1f5c80ecdb9f"
      },
      "id": "Xkvc_If8RDjw",
      "execution_count": 3,
      "outputs": [
        {
          "output_type": "stream",
          "name": "stdout",
          "text": [
            "{2, 3, 4, 5, 6, 7, 8, 9, 10, 11}\n"
          ]
        }
      ]
    },
    {
      "cell_type": "code",
      "source": [
        "## Create two sets: one with the first 5 positive integers and another with the first 5 even integers. Perform and print the results of union, intersection, difference, and symmetric difference operations on these sets.\n",
        "\n",
        "Set1={1,2,3,4,5}\n",
        "Set2={2,4,6,8,10}\n",
        "print(Set1.union(Set2))\n",
        "print(Set1.intersection(Set2))\n",
        "print(Set1.difference(Set2))\n",
        "print(Set1.symmetric_difference(Set2))\n"
      ],
      "metadata": {
        "colab": {
          "base_uri": "https://localhost:8080/"
        },
        "id": "1nud1Zf2RIgp",
        "outputId": "d3307a22-6b5d-442d-fa07-be83fd31dfae"
      },
      "id": "1nud1Zf2RIgp",
      "execution_count": 4,
      "outputs": [
        {
          "output_type": "stream",
          "name": "stdout",
          "text": [
            "{1, 2, 3, 4, 5, 6, 8, 10}\n",
            "{2, 4}\n",
            "{1, 3, 5}\n",
            "{1, 3, 5, 6, 8, 10}\n"
          ]
        }
      ]
    },
    {
      "cell_type": "code",
      "source": [
        "## Create a new set containing the squares of the first 10 positive integers using a set comprehension. Print the new set.\n",
        "\n",
        "squares = {x**2 for x in range(1, 11)}\n",
        "print(squares)"
      ],
      "metadata": {
        "colab": {
          "base_uri": "https://localhost:8080/"
        },
        "id": "sswSxmfcR-bd",
        "outputId": "24c26c7a-aa83-497a-e5df-53749b0b8a00"
      },
      "id": "sswSxmfcR-bd",
      "execution_count": 5,
      "outputs": [
        {
          "output_type": "stream",
          "name": "stdout",
          "text": [
            "{64, 1, 4, 36, 100, 9, 16, 49, 81, 25}\n"
          ]
        }
      ]
    },
    {
      "cell_type": "code",
      "source": [
        "## Create a new set containing only the even numbers from the set created in Assignment 1 using a set comprehension. Print the new set.\n",
        "\n",
        "even_numbers = {x for x in My_set if x % 2 == 0}\n",
        "print(even_numbers)"
      ],
      "metadata": {
        "colab": {
          "base_uri": "https://localhost:8080/"
        },
        "id": "f3cPM66FSpxZ",
        "outputId": "b909c409-fccd-4c33-ff51-30b54784484b"
      },
      "id": "f3cPM66FSpxZ",
      "execution_count": 6,
      "outputs": [
        {
          "output_type": "stream",
          "name": "stdout",
          "text": [
            "{2, 4, 6, 8, 10}\n"
          ]
        }
      ]
    },
    {
      "cell_type": "code",
      "source": [
        "## Create two sets: one with the first 5 positive integers and another with the first 3 positive integers. Check if the second set is a subset of the first set and if the first set is a superset of the second set. Print the results.\n",
        "\n",
        "Set1={1, 2, 3, 4, 5}\n",
        "Set2={1, 2, 3}\n",
        "print(Set1.issubset(Set2))\n",
        "print(Set1.issuperset(Set2))"
      ],
      "metadata": {
        "colab": {
          "base_uri": "https://localhost:8080/"
        },
        "id": "4vqn8a0ITLTv",
        "outputId": "f0719c89-25d7-4c34-d650-4f1a2c889f9a"
      },
      "id": "4vqn8a0ITLTv",
      "execution_count": 8,
      "outputs": [
        {
          "output_type": "stream",
          "name": "stdout",
          "text": [
            "False\n",
            "True\n"
          ]
        }
      ]
    },
    {
      "cell_type": "code",
      "source": [
        "## Create a frozenset with the first 5 positive integers. Print the frozenset.\n",
        "\n",
        "frozen_set = frozenset({1, 2, 3, 4, 5})\n",
        "print(frozen_set)"
      ],
      "metadata": {
        "colab": {
          "base_uri": "https://localhost:8080/"
        },
        "id": "Fa8AIi-PUdzo",
        "outputId": "bcb57817-6ced-46c3-9671-cc23e9486151"
      },
      "id": "Fa8AIi-PUdzo",
      "execution_count": 9,
      "outputs": [
        {
          "output_type": "stream",
          "name": "stdout",
          "text": [
            "frozenset({1, 2, 3, 4, 5})\n"
          ]
        }
      ]
    },
    {
      "cell_type": "code",
      "source": [
        "## Create a set with the first 5 positive integers. Convert it to a list, append the number 6, and convert it back to a set. Print the resulting set.\n",
        "\n",
        "My_set={1,2,3,4,5}\n",
        "My_list=list(My_set)\n",
        "My_list.append(6)\n",
        "My_set=set(My_list)\n",
        "print(My_set)"
      ],
      "metadata": {
        "colab": {
          "base_uri": "https://localhost:8080/"
        },
        "id": "Xf2HZz5zU1Ee",
        "outputId": "0934750c-e9f8-4e1a-e371-a49ed64e1048"
      },
      "id": "Xf2HZz5zU1Ee",
      "execution_count": 10,
      "outputs": [
        {
          "output_type": "stream",
          "name": "stdout",
          "text": [
            "{1, 2, 3, 4, 5, 6}\n"
          ]
        }
      ]
    },
    {
      "cell_type": "code",
      "source": [
        "## Create a dictionary with set keys and integer values. Print the dictionary.\n",
        "\n",
        "my_dict = {frozenset({1, 2, 3}): 10, frozenset({4, 5, 6}): 20, frozenset({7, 8, 9}): 30}\n",
        "print(my_dict)"
      ],
      "metadata": {
        "colab": {
          "base_uri": "https://localhost:8080/"
        },
        "id": "mPyuC-_hVgZD",
        "outputId": "bfaba6e3-4c44-4aad-ca3a-87f6983a214b"
      },
      "id": "mPyuC-_hVgZD",
      "execution_count": 12,
      "outputs": [
        {
          "output_type": "stream",
          "name": "stdout",
          "text": [
            "{frozenset({1, 2, 3}): 10, frozenset({4, 5, 6}): 20, frozenset({8, 9, 7}): 30}\n"
          ]
        }
      ]
    },
    {
      "cell_type": "code",
      "source": [
        "## Create a set and remove elements from it until it is empty. Print the set after each removal.\n",
        "\n",
        "my_set = {1, 2, 3, 4, 5}\n",
        "\n",
        "while my_set:\n",
        "    element = my_set.pop()\n",
        "    print(f\"Removed element: {element}\")\n",
        "    print(f\"Current set: {my_set}\")"
      ],
      "metadata": {
        "colab": {
          "base_uri": "https://localhost:8080/"
        },
        "id": "rKIg3c2LV6tA",
        "outputId": "c4aac1dc-6985-4ead-fc9c-d35911efcadd"
      },
      "id": "rKIg3c2LV6tA",
      "execution_count": 13,
      "outputs": [
        {
          "output_type": "stream",
          "name": "stdout",
          "text": [
            "Removed element: 1\n",
            "Current set: {2, 3, 4, 5}\n",
            "Removed element: 2\n",
            "Current set: {3, 4, 5}\n",
            "Removed element: 3\n",
            "Current set: {4, 5}\n",
            "Removed element: 4\n",
            "Current set: {5}\n",
            "Removed element: 5\n",
            "Current set: set()\n"
          ]
        }
      ]
    },
    {
      "cell_type": "code",
      "source": [
        "## Create two sets and update the first set with the symmetric difference of the two sets. Print the modified first set.\n",
        "\n",
        "Set1={1, 2, 3, 4, 5}\n",
        "Set2={3, 4, 5, 6, 7}\n",
        "Set1.symmetric_difference_update(Set2)\n",
        "print(Set1)"
      ],
      "metadata": {
        "colab": {
          "base_uri": "https://localhost:8080/"
        },
        "id": "FAOsJ8hPXhWJ",
        "outputId": "c918072a-79a3-436e-b5f1-d3d063623c85"
      },
      "id": "FAOsJ8hPXhWJ",
      "execution_count": 14,
      "outputs": [
        {
          "output_type": "stream",
          "name": "stdout",
          "text": [
            "{1, 2, 6, 7}\n"
          ]
        }
      ]
    },
    {
      "cell_type": "code",
      "source": [
        "## Create a set and test if certain elements are present in the set. Print the results.\n",
        "\n",
        "my_set = {1, 2, 3, 4, 5}\n",
        "print(1 in my_set)\n",
        "print(6 in my_set)"
      ],
      "metadata": {
        "colab": {
          "base_uri": "https://localhost:8080/"
        },
        "id": "Sv8jqoaWYTw_",
        "outputId": "dc6dc75d-b88b-49ea-994a-668e4748b4de"
      },
      "id": "Sv8jqoaWYTw_",
      "execution_count": 15,
      "outputs": [
        {
          "output_type": "stream",
          "name": "stdout",
          "text": [
            "True\n",
            "False\n"
          ]
        }
      ]
    },
    {
      "cell_type": "code",
      "source": [
        "## Create a set containing tuples, where each tuple contains two elements. Print the set.\n",
        "\n",
        "my_set = {(1, 2), (3, 4), (5, 6)}\n",
        "print(my_set)"
      ],
      "metadata": {
        "colab": {
          "base_uri": "https://localhost:8080/"
        },
        "id": "YXNhB9lhYkiz",
        "outputId": "3c18e4fc-17b7-43d4-ad48-cc6c58c468c3"
      },
      "id": "YXNhB9lhYkiz",
      "execution_count": 16,
      "outputs": [
        {
          "output_type": "stream",
          "name": "stdout",
          "text": [
            "{(1, 2), (3, 4), (5, 6)}\n"
          ]
        }
      ]
    }
  ],
  "metadata": {
    "kernelspec": {
      "display_name": "Python 3",
      "language": "python",
      "name": "python3"
    },
    "language_info": {
      "codemirror_mode": {
        "name": "ipython",
        "version": 3
      },
      "file_extension": ".py",
      "mimetype": "text/x-python",
      "name": "python",
      "nbconvert_exporter": "python",
      "pygments_lexer": "ipython3",
      "version": "3.9.7"
    },
    "colab": {
      "provenance": [],
      "include_colab_link": true
    }
  },
  "nbformat": 4,
  "nbformat_minor": 5
}