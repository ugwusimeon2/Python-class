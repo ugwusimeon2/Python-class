{
  "cells": [
    {
      "cell_type": "markdown",
      "metadata": {
        "id": "view-in-github",
        "colab_type": "text"
      },
      "source": [
        "<a href=\"https://colab.research.google.com/github/ugwusimeon2/Python-class/blob/main/dictionaries_assignment.ipynb\" target=\"_parent\"><img src=\"https://colab.research.google.com/assets/colab-badge.svg\" alt=\"Open In Colab\"/></a>"
      ]
    },
    {
      "cell_type": "markdown",
      "metadata": {
        "id": "sasTN6yv_QNk"
      },
      "source": [
        "# Module 3: Data Structures Assignments\n",
        "## Lesson 3.4: Dictionaries\n",
        "### Assignment 1: Creating and Accessing Dictionaries\n",
        "\n",
        "Create a dictionary with the first 10 positive integers as keys and their squares as values. Print the dictionary."
      ],
      "id": "sasTN6yv_QNk"
    },
    {
      "cell_type": "code",
      "execution_count": 3,
      "metadata": {
        "id": "SlyL82Ru_QNq",
        "colab": {
          "base_uri": "https://localhost:8080/"
        },
        "outputId": "296feb7c-eee1-4484-f251-74885d2a211b"
      },
      "outputs": [
        {
          "output_type": "stream",
          "name": "stdout",
          "text": [
            "{1: 1, 2: 4, 3: 9, 4: 16, 5: 25, 6: 36, 7: 49, 8: 64, 9: 81, 10: 100}\n"
          ]
        }
      ],
      "source": [
        "My_dict = {1:1, 2:4, 3:9, 4:16, 5:25, 6:36, 7:49, 8:64, 9:81, 10:100}\n",
        "print(My_dict)"
      ],
      "id": "SlyL82Ru_QNq"
    },
    {
      "cell_type": "markdown",
      "metadata": {
        "id": "OFjSleld_QNt"
      },
      "source": [
        "### Assignment 2: Accessing Dictionary Elements\n",
        "\n",
        "Print the value of the key 5 and the keys of the dictionary created in Assignment 1."
      ],
      "id": "OFjSleld_QNt"
    },
    {
      "cell_type": "code",
      "execution_count": 4,
      "metadata": {
        "id": "NLOQr0_k_QNv",
        "colab": {
          "base_uri": "https://localhost:8080/"
        },
        "outputId": "a4978fca-21a4-483b-8e78-b130bd7bd0b3"
      },
      "outputs": [
        {
          "output_type": "stream",
          "name": "stdout",
          "text": [
            "Value of key 5: 25\n",
            "Keys of the dictionary: dict_keys([1, 2, 3, 4, 5, 6, 7, 8, 9, 10])\n"
          ]
        }
      ],
      "source": [
        "print(\"Value of key 5:\", My_dict[5])\n",
        "\n",
        "# Print all the keys\n",
        "print(\"Keys of the dictionary:\", My_dict.keys())"
      ],
      "id": "NLOQr0_k_QNv"
    },
    {
      "cell_type": "markdown",
      "metadata": {
        "id": "jz5MC1C3_QNw"
      },
      "source": [
        "### Assignment 3: Dictionary Methods\n",
        "\n",
        "Add a new key-value pair (11, 121) to the dictionary created in Assignment 1 and then remove the key-value pair with key 1. Print the modified dictionary."
      ],
      "id": "jz5MC1C3_QNw"
    },
    {
      "cell_type": "code",
      "execution_count": 7,
      "metadata": {
        "id": "VrGy7uZ5_QNy",
        "colab": {
          "base_uri": "https://localhost:8080/"
        },
        "outputId": "c0557040-c581-4548-bff4-253aaf75507e"
      },
      "outputs": [
        {
          "output_type": "stream",
          "name": "stdout",
          "text": [
            "Modified dictionary: {2: 4, 3: 9, 4: 16, 5: 25, 6: 36, 7: 49, 8: 64, 9: 81, 10: 100, 11: 121}\n"
          ]
        }
      ],
      "source": [
        "My_dict = {x: x**2 for x in range(1, 11)}\n",
        "\n",
        "# Add new key-value pair (11, 121)\n",
        "My_dict[11] = 121\n",
        "My_dict.pop(1)\n",
        "\n",
        "# Print the modified dictionary\n",
        "print(\"Modified dictionary:\", My_dict)"
      ],
      "id": "VrGy7uZ5_QNy"
    },
    {
      "cell_type": "markdown",
      "metadata": {
        "id": "biECHDV1_QNz"
      },
      "source": [
        "### Assignment 4: Iterating Over Dictionaries\n",
        "\n",
        "Iterate over the dictionary created in Assignment 1 and print each key-value pair."
      ],
      "id": "biECHDV1_QNz"
    },
    {
      "cell_type": "code",
      "execution_count": 8,
      "metadata": {
        "id": "P2_VvjLe_QN0",
        "colab": {
          "base_uri": "https://localhost:8080/"
        },
        "outputId": "12f01800-b6b1-4431-baf2-fa26bd584ced"
      },
      "outputs": [
        {
          "output_type": "stream",
          "name": "stdout",
          "text": [
            "Key: 1 Value: 1\n",
            "Key: 2 Value: 4\n",
            "Key: 3 Value: 9\n",
            "Key: 4 Value: 16\n",
            "Key: 5 Value: 25\n",
            "Key: 6 Value: 36\n",
            "Key: 7 Value: 49\n",
            "Key: 8 Value: 64\n",
            "Key: 9 Value: 81\n",
            "Key: 10 Value: 100\n"
          ]
        }
      ],
      "source": [
        "My_dict = {x: x**2 for x in range(1, 11)}\n",
        "\n",
        "# Iterate over the dictionary\n",
        "for key, value in My_dict.items():\n",
        "    print(\"Key:\", key, \"Value:\", value)"
      ],
      "id": "P2_VvjLe_QN0"
    },
    {
      "cell_type": "markdown",
      "metadata": {
        "id": "FUeG9j9y_QN1"
      },
      "source": [
        "### Assignment 5: Dictionary Comprehensions\n",
        "\n",
        "Create a new dictionary containing the cubes of the first 10 positive integers using a dictionary comprehension. Print the new dictionary."
      ],
      "id": "FUeG9j9y_QN1"
    },
    {
      "cell_type": "code",
      "execution_count": 9,
      "metadata": {
        "id": "GEWyNNxb_QN3",
        "colab": {
          "base_uri": "https://localhost:8080/"
        },
        "outputId": "d3d2da89-e9eb-4e8d-a898-f2f61024f4d8"
      },
      "outputs": [
        {
          "output_type": "stream",
          "name": "stdout",
          "text": [
            "Cubes Dictionary: {1: 1, 2: 8, 3: 27, 4: 64, 5: 125, 6: 216, 7: 343, 8: 512, 9: 729, 10: 1000}\n"
          ]
        }
      ],
      "source": [
        "cube_dict = {x: x**3 for x in range(1, 11)}\n",
        "\n",
        "print(\"Cubes Dictionary:\", cube_dict)"
      ],
      "id": "GEWyNNxb_QN3"
    },
    {
      "cell_type": "markdown",
      "metadata": {
        "id": "lB60B7fL_QN5"
      },
      "source": [
        "### Assignment 6: Merging Dictionaries\n",
        "\n",
        "Create two dictionaries: one with keys as the first 5 positive integers and values as their squares, and another with keys as the next 5 positive integers and values as their squares. Merge these dictionaries into a single dictionary and print it."
      ],
      "id": "lB60B7fL_QN5"
    },
    {
      "cell_type": "code",
      "execution_count": 10,
      "metadata": {
        "id": "b0e6vfdm_QN6",
        "colab": {
          "base_uri": "https://localhost:8080/"
        },
        "outputId": "3a2a6e92-1459-4ab1-9018-c5fdf67ec180"
      },
      "outputs": [
        {
          "output_type": "stream",
          "name": "stdout",
          "text": [
            "First Dictionary: {1: 1, 2: 4, 3: 9, 4: 16, 5: 25}\n",
            "Second Dictionary: {6: 36, 7: 49, 8: 64, 9: 81, 10: 100}\n",
            "Merged Dictionary: {1: 1, 2: 4, 3: 9, 4: 16, 5: 25, 6: 36, 7: 49, 8: 64, 9: 81, 10: 100}\n"
          ]
        }
      ],
      "source": [
        "dict1 = {x: x**2 for x in range(1, 6)}\n",
        "\n",
        "# Second dictionary: keys 6–10, values = squares\n",
        "dict2 = {x: x**2 for x in range(6, 11)}\n",
        "\n",
        "# Merge the two dictionaries\n",
        "merged_dict = {**dict1, **dict2}\n",
        "\n",
        "print(\"First Dictionary:\", dict1)\n",
        "print(\"Second Dictionary:\", dict2)\n",
        "print(\"Merged Dictionary:\", merged_dict)"
      ],
      "id": "b0e6vfdm_QN6"
    },
    {
      "cell_type": "markdown",
      "metadata": {
        "id": "5SUwFIS0_QN7"
      },
      "source": [
        "### Assignment 7: Nested Dictionaries\n",
        "\n",
        "Create a nested dictionary representing a student with keys 'name', 'age', 'grades', where 'grades' is another dictionary with keys 'math', 'science', and 'english'. Print the nested dictionary."
      ],
      "id": "5SUwFIS0_QN7"
    },
    {
      "cell_type": "code",
      "execution_count": 11,
      "metadata": {
        "id": "FKBWiALY_QN8",
        "colab": {
          "base_uri": "https://localhost:8080/"
        },
        "outputId": "06ea4e89-6a8f-4463-a531-9f3de0c0ec5b"
      },
      "outputs": [
        {
          "output_type": "stream",
          "name": "stdout",
          "text": [
            "Student Dictionary: {'name': 'John', 'age': 16, 'grades': {'math': 85, 'science': 90, 'english': 78}}\n"
          ]
        }
      ],
      "source": [
        "student = {\n",
        "    \"name\": \"John\",\n",
        "    \"age\": 16,\n",
        "    \"grades\": {\n",
        "        \"math\": 85,\n",
        "        \"science\": 90,\n",
        "        \"english\": 78\n",
        "    }\n",
        "}\n",
        "\n",
        "# Print the nested dictionary\n",
        "print(\"Student Dictionary:\", student)"
      ],
      "id": "FKBWiALY_QN8"
    },
    {
      "cell_type": "markdown",
      "metadata": {
        "id": "qspBPBBd_QN-"
      },
      "source": [
        "### Assignment 8: Dictionary of Lists\n",
        "\n",
        "Create a dictionary where the keys are the first 5 positive integers and the values are lists containing the first 5 multiples of the key. Print the dictionary."
      ],
      "id": "qspBPBBd_QN-"
    },
    {
      "cell_type": "code",
      "execution_count": 12,
      "metadata": {
        "id": "KC10nuhr_QN_",
        "colab": {
          "base_uri": "https://localhost:8080/"
        },
        "outputId": "59dbc044-0ef9-4ace-c35c-53d45cd52a1e"
      },
      "outputs": [
        {
          "output_type": "stream",
          "name": "stdout",
          "text": [
            "Dictionary of multiples: {1: [1, 2, 3, 4, 5], 2: [2, 4, 6, 8, 10], 3: [3, 6, 9, 12, 15], 4: [4, 8, 12, 16, 20], 5: [5, 10, 15, 20, 25]}\n"
          ]
        }
      ],
      "source": [
        "multiples_dict = {x: [x * i for i in range(1, 6)] for x in range(1, 6)}\n",
        "\n",
        "# Print the dictionary\n",
        "print(\"Dictionary of multiples:\", multiples_dict)\n"
      ],
      "id": "KC10nuhr_QN_"
    },
    {
      "cell_type": "markdown",
      "metadata": {
        "id": "5aFTjzr9_QOA"
      },
      "source": [
        "### Assignment 9: Dictionary of Tuples\n",
        "\n",
        "Create a dictionary where the keys are the first 5 positive integers and the values are tuples containing the key and its square. Print the dictionary."
      ],
      "id": "5aFTjzr9_QOA"
    },
    {
      "cell_type": "code",
      "execution_count": 13,
      "metadata": {
        "id": "4Cn3zJoY_QOC",
        "colab": {
          "base_uri": "https://localhost:8080/"
        },
        "outputId": "f69aa1f1-bce7-4e53-e7f2-9d172fb83a95"
      },
      "outputs": [
        {
          "output_type": "stream",
          "name": "stdout",
          "text": [
            "Dictionary with key and its square as tuple: {1: (1, 1), 2: (2, 4), 3: (3, 9), 4: (4, 16), 5: (5, 25)}\n"
          ]
        }
      ],
      "source": [
        "square_dict = {x: (x, x**2) for x in range(1, 6)}\n",
        "\n",
        "# Print the dictionary\n",
        "print(\"Dictionary with key and its square as tuple:\", square_dict)"
      ],
      "id": "4Cn3zJoY_QOC"
    },
    {
      "cell_type": "markdown",
      "metadata": {
        "id": "FHyPQ1fk_QOE"
      },
      "source": [
        "### Assignment 10: Dictionary and List Conversion\n",
        "\n",
        "Create a dictionary with the first 5 positive integers as keys and their squares as values. Convert the dictionary to a list of tuples and print it."
      ],
      "id": "FHyPQ1fk_QOE"
    },
    {
      "cell_type": "code",
      "execution_count": 14,
      "metadata": {
        "id": "IaEcABKT_QOF",
        "colab": {
          "base_uri": "https://localhost:8080/"
        },
        "outputId": "a0b046b4-8c17-4d08-8a30-f78843168785"
      },
      "outputs": [
        {
          "output_type": "stream",
          "name": "stdout",
          "text": [
            "Dictionary: {1: 1, 2: 4, 3: 9, 4: 16, 5: 25}\n",
            "List of tuples: [(1, 1), (2, 4), (3, 9), (4, 16), (5, 25)]\n"
          ]
        }
      ],
      "source": [
        "square_dict = {x: x**2 for x in range(1, 6)}\n",
        "\n",
        "# Convert dictionary to list of tuples\n",
        "dict_as_list = list(square_dict.items())\n",
        "\n",
        "# Print results\n",
        "print(\"Dictionary:\", square_dict)\n",
        "print(\"List of tuples:\", dict_as_list)"
      ],
      "id": "IaEcABKT_QOF"
    },
    {
      "cell_type": "markdown",
      "metadata": {
        "id": "BMEYcxao_QOG"
      },
      "source": [
        "### Assignment 11: Dictionary Filtering\n",
        "\n",
        "Create a dictionary with the first 10 positive integers as keys and their squares as values. Create a new dictionary containing only the key-value pairs where the key is even. Print the new dictionary."
      ],
      "id": "BMEYcxao_QOG"
    },
    {
      "cell_type": "code",
      "execution_count": 15,
      "metadata": {
        "id": "8SPd2ovA_QOG",
        "colab": {
          "base_uri": "https://localhost:8080/"
        },
        "outputId": "7f6fba22-f93a-41b0-9b73-ea6d05760403"
      },
      "outputs": [
        {
          "output_type": "stream",
          "name": "stdout",
          "text": [
            "Original Dictionary: {1: 1, 2: 4, 3: 9, 4: 16, 5: 25, 6: 36, 7: 49, 8: 64, 9: 81, 10: 100}\n",
            "Even Key Dictionary: {2: 4, 4: 16, 6: 36, 8: 64, 10: 100}\n"
          ]
        }
      ],
      "source": [
        "square_dict = {x: x**2 for x in range(1, 11)}\n",
        "\n",
        "# Create new dictionary with only even keys\n",
        "even_square_dict = {k: v for k, v in square_dict.items() if k % 2 == 0}\n",
        "\n",
        "# Print results\n",
        "print(\"Original Dictionary:\", square_dict)\n",
        "print(\"Even Key Dictionary:\", even_square_dict)"
      ],
      "id": "8SPd2ovA_QOG"
    },
    {
      "cell_type": "markdown",
      "metadata": {
        "id": "_V4CcBN0_QOH"
      },
      "source": [
        "### Assignment 12: Dictionary Key and Value Transformation\n",
        "\n",
        "Create a dictionary with the first 5 positive integers as keys and their squares as values. Create a new dictionary with keys and values swapped. Print the new dictionary."
      ],
      "id": "_V4CcBN0_QOH"
    },
    {
      "cell_type": "code",
      "execution_count": 16,
      "metadata": {
        "id": "HNP0bxxB_QOH",
        "colab": {
          "base_uri": "https://localhost:8080/"
        },
        "outputId": "2a91624c-5817-43b7-a174-269ddc2cf40e"
      },
      "outputs": [
        {
          "output_type": "stream",
          "name": "stdout",
          "text": [
            "Original Dictionary: {1: 1, 2: 4, 3: 9, 4: 16, 5: 25}\n",
            "Swapped Dictionary: {1: 1, 4: 2, 9: 3, 16: 4, 25: 5}\n"
          ]
        }
      ],
      "source": [
        "square_dict = {x: x**2 for x in range(1, 6)}\n",
        "\n",
        "# Swap keys and values\n",
        "swapped_dict = {v: k for k, v in square_dict.items()}\n",
        "\n",
        "# Print results\n",
        "print(\"Original Dictionary:\", square_dict)\n",
        "print(\"Swapped Dictionary:\", swapped_dict)"
      ],
      "id": "HNP0bxxB_QOH"
    },
    {
      "cell_type": "markdown",
      "metadata": {
        "id": "FG_eOKg-_QOI"
      },
      "source": [
        "### Assignment 13: Default Dictionary\n",
        "\n",
        "Create a default dictionary where each key has a default value of an empty list. Add some elements to the lists and print the dictionary."
      ],
      "id": "FG_eOKg-_QOI"
    },
    {
      "cell_type": "code",
      "execution_count": 17,
      "metadata": {
        "id": "3g6lC_5R_QOI",
        "colab": {
          "base_uri": "https://localhost:8080/"
        },
        "outputId": "23c99897-79c4-47a8-d7bb-149901d14978"
      },
      "outputs": [
        {
          "output_type": "stream",
          "name": "stdout",
          "text": [
            "Default Dictionary: {'fruits': ['apple', 'banana'], 'numbers': [1, 2]}\n"
          ]
        }
      ],
      "source": [
        "from collections import defaultdict\n",
        "\n",
        "# Create a defaultdict with default value as an empty list\n",
        "my_dict = defaultdict(list)\n",
        "\n",
        "# Add elements to the lists\n",
        "my_dict[\"fruits\"].append(\"apple\")\n",
        "my_dict[\"fruits\"].append(\"banana\")\n",
        "my_dict[\"numbers\"].append(1)\n",
        "my_dict[\"numbers\"].append(2)\n",
        "\n",
        "# Print dictionary\n",
        "print(\"Default Dictionary:\", dict(my_dict))"
      ],
      "id": "3g6lC_5R_QOI"
    },
    {
      "cell_type": "markdown",
      "metadata": {
        "id": "6IwcHaUR_QOJ"
      },
      "source": [
        "### Assignment 14: Counting with Dictionaries\n",
        "\n",
        "Write a function that takes a string and returns a dictionary with the count of each character in the string. Print the dictionary."
      ],
      "id": "6IwcHaUR_QOJ"
    },
    {
      "cell_type": "code",
      "execution_count": 18,
      "metadata": {
        "id": "BN-y51q6_QOJ",
        "colab": {
          "base_uri": "https://localhost:8080/"
        },
        "outputId": "7e247e62-c587-4ea2-d4d6-659858d8f817"
      },
      "outputs": [
        {
          "output_type": "stream",
          "name": "stdout",
          "text": [
            "Character Count: {'h': 1, 'e': 1, 'l': 3, 'o': 2, ' ': 1, 'w': 1, 'r': 1, 'd': 1}\n"
          ]
        }
      ],
      "source": [
        "def char_count(s):\n",
        "    char_dict = {}\n",
        "    for char in s:\n",
        "        char_dict[char] = char_dict.get(char, 0) + 1\n",
        "    return char_dict\n",
        "\n",
        "# Example usage\n",
        "text = \"hello world\"\n",
        "result = char_count(text)\n",
        "print(\"Character Count:\", result)"
      ],
      "id": "BN-y51q6_QOJ"
    },
    {
      "cell_type": "markdown",
      "metadata": {
        "id": "9NyAzd8-_QOK"
      },
      "source": [
        "### Assignment 15: Dictionary and JSON\n",
        "\n",
        "Create a dictionary representing a book with keys 'title', 'author', 'year', and 'genre'. Convert the dictionary to a JSON string and print it."
      ],
      "id": "9NyAzd8-_QOK"
    },
    {
      "cell_type": "code",
      "execution_count": 19,
      "metadata": {
        "id": "uFlXNmPN_QOL",
        "colab": {
          "base_uri": "https://localhost:8080/"
        },
        "outputId": "e3497e71-6220-4267-b18d-ec78e0914483"
      },
      "outputs": [
        {
          "output_type": "stream",
          "name": "stdout",
          "text": [
            "JSON String: {\"title\": \"Things Fall Apart\", \"author\": \"Chinua Achebe\", \"year\": 1958, \"genre\": \"Historical Fiction\"}\n"
          ]
        }
      ],
      "source": [
        "import json\n",
        "\n",
        "# Dictionary representing a book\n",
        "book = {\n",
        "    \"title\": \"Things Fall Apart\",\n",
        "    \"author\": \"Chinua Achebe\",\n",
        "    \"year\": 1958,\n",
        "    \"genre\": \"Historical Fiction\"\n",
        "}\n",
        "\n",
        "# Convert dictionary to JSON string\n",
        "book_json = json.dumps(book)\n",
        "\n",
        "# Print JSON string\n",
        "print(\"JSON String:\", book_json)"
      ],
      "id": "uFlXNmPN_QOL"
    },
    {
      "cell_type": "code",
      "source": [],
      "metadata": {
        "id": "d3g2eKUqoC6g"
      },
      "id": "d3g2eKUqoC6g",
      "execution_count": null,
      "outputs": []
    }
  ],
  "metadata": {
    "kernelspec": {
      "display_name": "Python 3",
      "language": "python",
      "name": "python3"
    },
    "language_info": {
      "codemirror_mode": {
        "name": "ipython",
        "version": 3
      },
      "file_extension": ".py",
      "mimetype": "text/x-python",
      "name": "python",
      "nbconvert_exporter": "python",
      "pygments_lexer": "ipython3",
      "version": "3.9.7"
    },
    "colab": {
      "provenance": [],
      "include_colab_link": true
    }
  },
  "nbformat": 4,
  "nbformat_minor": 5
}