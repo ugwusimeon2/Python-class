{
  "cells": [
    {
      "cell_type": "markdown",
      "metadata": {
        "id": "view-in-github",
        "colab_type": "text"
      },
      "source": [
        "<a href=\"https://colab.research.google.com/github/ugwusimeon2/Python-class/blob/main/tuple_assignment.ipynb\" target=\"_parent\"><img src=\"https://colab.research.google.com/assets/colab-badge.svg\" alt=\"Open In Colab\"/></a>"
      ]
    },
    {
      "cell_type": "markdown",
      "id": "6cade624",
      "metadata": {
        "id": "6cade624"
      },
      "source": [
        "# Module 3: Data Structures Assignments\n",
        "## Lesson 3.2: Tuples\n",
        "### Assignment 1: Creating and Accessing Tuples\n",
        "\n",
        "Create a tuple with the first 10 positive integers. Print the tuple.\n",
        "\n",
        "### Assignment 2: Accessing Tuple Elements\n",
        "\n",
        "Print the first, middle, and last elements of the tuple created in Assignment 1.\n",
        "\n",
        "### Assignment 3: Tuple Slicing\n",
        "\n",
        "Print the first three elements, the last three elements, and the elements from index 2 to 5 of the tuple created in Assignment 1.\n",
        "\n",
        "### Assignment 4: Nested Tuples\n",
        "\n",
        "Create a nested tuple representing a 3x3 matrix and print the matrix. Access and print the element at the second row and third column.\n",
        "\n",
        "### Assignment 5: Tuple Concatenation\n",
        "\n",
        "Concatenate two tuples: (1, 2, 3) and (4, 5, 6). Print the resulting tuple.\n",
        "\n",
        "### Assignment 6: Tuple Methods\n",
        "\n",
        "Create a tuple with duplicate elements and count the occurrences of an element. Find the index of the first occurrence of an element in the tuple.\n",
        "\n",
        "### Assignment 7: Unpacking Tuples\n",
        "\n",
        "Create a tuple with 5 elements and unpack it into 5 variables. Print the variables.\n",
        "\n",
        "### Assignment 8: Tuple Conversion\n",
        "\n",
        "Convert a list of the first 5 positive integers to a tuple. Print the tuple.\n",
        "\n",
        "### Assignment 9: Tuple of Tuples\n",
        "\n",
        "Create a tuple containing 3 tuples, each with 3 elements. Print the tuple of tuples.\n",
        "\n",
        "### Assignment 10: Tuple and List\n",
        "\n",
        "Create a tuple with the first 5 positive integers. Convert it to a list, append the number 6, and convert it back to a tuple. Print the resulting tuple.\n",
        "\n",
        "### Assignment 11: Tuple and String\n",
        "\n",
        "Create a tuple with the characters of a string. Join the tuple elements into a single string. Print the string.\n",
        "\n",
        "### Assignment 12: Tuple and Dictionary\n",
        "\n",
        "Create a dictionary with tuple keys and integer values. Print the dictionary.\n",
        "\n",
        "### Assignment 13: Nested Tuple Iteration\n",
        "\n",
        "Create a nested tuple and iterate over the elements, printing each element.\n",
        "\n",
        "### Assignment 14: Tuple and Set\n",
        "\n",
        "Create a tuple with duplicate elements. Convert it to a set to remove duplicates and print the resulting set.\n",
        "\n",
        "### Assignment 15: Tuple Functions\n",
        "\n",
        "Write functions that take a tuple and return the minimum, maximum, and sum of the elements. Print the results for a sample tuple."
      ]
    },
    {
      "cell_type": "code",
      "execution_count": null,
      "metadata": {
        "colab": {
          "base_uri": "https://localhost:8080/"
        },
        "id": "gnn9Lwct-pLZ",
        "outputId": "a0dc7632-29f0-4375-f46c-2be72ca0cac3"
      },
      "outputs": [
        {
          "output_type": "stream",
          "name": "stdout",
          "text": [
            "(1, 2, 3, 4, 5, 6, 7, 8, 9, 10)\n"
          ]
        }
      ],
      "source": [
        "## Create a tuple with the first 10 positive integers. Print the tuple.\n",
        "\n",
        "My_tuple = (1,2,3,4,5,6,7,8,9,10)\n",
        "print(My_tuple)\n",
        "\n"
      ],
      "id": "gnn9Lwct-pLZ"
    },
    {
      "cell_type": "code",
      "source": [
        "## Print the first, middle, and last elements of the tuple created in Assignment 1.\n",
        "\n",
        "print(My_tuple[0])\n",
        "print(My_tuple[4])\n",
        "print(My_tuple[9])\n"
      ],
      "metadata": {
        "colab": {
          "base_uri": "https://localhost:8080/"
        },
        "id": "uzJEQ2ZK_ke2",
        "outputId": "40c546b6-f033-4d61-e029-9802b9a18aa3"
      },
      "id": "uzJEQ2ZK_ke2",
      "execution_count": null,
      "outputs": [
        {
          "output_type": "stream",
          "name": "stdout",
          "text": [
            "1\n",
            "5\n",
            "10\n"
          ]
        }
      ]
    },
    {
      "cell_type": "code",
      "source": [
        "## Print the first three elements, the last three elements, and the elements from index 2 to 5 of the tuple created in Assignment 1.\n",
        "\n",
        "print(My_tuple[:3])\n",
        "print(My_tuple[7:10])\n",
        "print(My_tuple[2:6])\n",
        "print(My_tuple[7:])"
      ],
      "metadata": {
        "colab": {
          "base_uri": "https://localhost:8080/"
        },
        "id": "kQ4TZZeE_wvV",
        "outputId": "88d79a2f-3b5f-4465-89fd-56b744c6df0c"
      },
      "id": "kQ4TZZeE_wvV",
      "execution_count": null,
      "outputs": [
        {
          "output_type": "stream",
          "name": "stdout",
          "text": [
            "(1, 2, 3)\n",
            "(8, 9, 10)\n",
            "(3, 4, 5, 6)\n",
            "(8, 9, 10)\n"
          ]
        }
      ]
    },
    {
      "cell_type": "code",
      "source": [
        "## Create a nested tuple representing a 3x3 matrix and print the matrix. Access and print the element at the second row and third column.\n",
        "\n",
        "matrix = ((1,2,3),(4,5,6),(7,8,9))\n",
        "print(matrix)\n",
        "print(matrix[1][2])\n"
      ],
      "metadata": {
        "colab": {
          "base_uri": "https://localhost:8080/"
        },
        "id": "3CD0Nc4YANtd",
        "outputId": "fac4c123-cf5a-4daa-c156-8a9128a4f70a"
      },
      "id": "3CD0Nc4YANtd",
      "execution_count": null,
      "outputs": [
        {
          "output_type": "stream",
          "name": "stdout",
          "text": [
            "((1, 2, 3), (4, 5, 6), (7, 8, 9))\n",
            "6\n"
          ]
        }
      ]
    },
    {
      "cell_type": "code",
      "source": [
        "## Concatenate two tuples: (1, 2, 3) and (4, 5, 6). Print the resulting tuple.\n",
        "\n",
        "tuple1 = (1, 2, 3)\n",
        "tuple2 = (4, 5, 6)\n",
        "result = tuple1 + tuple2\n",
        "\n",
        "print(result)"
      ],
      "metadata": {
        "colab": {
          "base_uri": "https://localhost:8080/"
        },
        "id": "QMswfywsAv6J",
        "outputId": "5083e7e4-d4ee-4c88-b40b-46ecd2684acc"
      },
      "id": "QMswfywsAv6J",
      "execution_count": null,
      "outputs": [
        {
          "output_type": "stream",
          "name": "stdout",
          "text": [
            "(1, 2, 3, 4, 5, 6)\n"
          ]
        }
      ]
    },
    {
      "cell_type": "code",
      "source": [
        "## Create a tuple with duplicate elements and count the occurrences of an element. Find the index of the first occurrence of an element in the tuple.\n",
        "\n",
        "Tuple = (1,2,3,3,4,5,6,6,7,8,9,10,3,4,2,5,6,)\n",
        "print(Tuple.count(2))\n",
        "print(Tuple.index(2))"
      ],
      "metadata": {
        "colab": {
          "base_uri": "https://localhost:8080/"
        },
        "id": "-IFwSK41BzmZ",
        "outputId": "35d43bb7-1f8b-47dc-b4eb-b17c8a2b9baf"
      },
      "id": "-IFwSK41BzmZ",
      "execution_count": null,
      "outputs": [
        {
          "output_type": "stream",
          "name": "stdout",
          "text": [
            "2\n",
            "1\n"
          ]
        }
      ]
    },
    {
      "cell_type": "code",
      "source": [
        "## Create a tuple with 5 elements and unpack it into 5 variables. Print the variables.\n",
        "\n",
        "Tuple = (1,2,3,4,5)\n",
        "a,b,c,d,e = Tuple\n",
        "print(a,b,c,d,e)"
      ],
      "metadata": {
        "colab": {
          "base_uri": "https://localhost:8080/"
        },
        "id": "vQliJxDpCbFD",
        "outputId": "be5fe5a4-5100-44e3-aa66-cb735c920189"
      },
      "id": "vQliJxDpCbFD",
      "execution_count": null,
      "outputs": [
        {
          "output_type": "stream",
          "name": "stdout",
          "text": [
            "1 2 3 4 5\n"
          ]
        }
      ]
    },
    {
      "cell_type": "code",
      "source": [
        "## Convert a list of the first 5 positive integers to a tuple. Print the tuple\n",
        "\n",
        "List = [1,2,3,4,5]\n",
        "Tuple = tuple(List)\n",
        "print(Tuple)"
      ],
      "metadata": {
        "colab": {
          "base_uri": "https://localhost:8080/"
        },
        "id": "8FJudFXcC4qZ",
        "outputId": "a92c9b13-29a1-4346-bfc4-8c3cd961a5f1"
      },
      "id": "8FJudFXcC4qZ",
      "execution_count": null,
      "outputs": [
        {
          "output_type": "stream",
          "name": "stdout",
          "text": [
            "(1, 2, 3, 4, 5)\n"
          ]
        }
      ]
    },
    {
      "cell_type": "code",
      "source": [
        "## Create a tuple containing 3 tuples, each with 3 elements. Print the tuple of tuples.\n",
        "\n",
        "Tuple = ((1,2,3),(4,5,6),(7,8,9))\n",
        "print(Tuple)\n"
      ],
      "metadata": {
        "colab": {
          "base_uri": "https://localhost:8080/"
        },
        "id": "FcPH6T8UDeNX",
        "outputId": "cb751c07-9d76-4950-ff4d-0588cd239883"
      },
      "id": "FcPH6T8UDeNX",
      "execution_count": null,
      "outputs": [
        {
          "output_type": "stream",
          "name": "stdout",
          "text": [
            "((1, 2, 3), (4, 5, 6), (7, 8, 9))\n"
          ]
        }
      ]
    },
    {
      "cell_type": "code",
      "source": [
        "## Create a tuple with the first 5 positive integers. Convert it to a list, append the number 6, and convert it back to a tuple. Print the resulting tuple.\n",
        "\n",
        "Tuple = (1,2,3,4,5)\n",
        "List = list(Tuple)\n",
        "List.append(6)\n",
        "Tuple = tuple(List)\n",
        "print(Tuple)"
      ],
      "metadata": {
        "colab": {
          "base_uri": "https://localhost:8080/"
        },
        "id": "SxqZolFLD1dq",
        "outputId": "cee21d6c-8039-4ee9-90fe-b549bbb5a5cb"
      },
      "id": "SxqZolFLD1dq",
      "execution_count": null,
      "outputs": [
        {
          "output_type": "stream",
          "name": "stdout",
          "text": [
            "(1, 2, 3, 4, 5, 6)\n"
          ]
        }
      ]
    },
    {
      "cell_type": "code",
      "source": [
        "## Create a tuple with the characters of a string. Join the tuple elements into a single string. Print the string.\n",
        "\n",
        "Tuple = ('h','e','l','l','o')\n",
        "String = ''.join(Tuple)\n",
        "print(String)"
      ],
      "metadata": {
        "colab": {
          "base_uri": "https://localhost:8080/"
        },
        "id": "VTiwVuvAECu8",
        "outputId": "af2f714b-2ead-46cd-bec5-8ab44c44bb56"
      },
      "id": "VTiwVuvAECu8",
      "execution_count": null,
      "outputs": [
        {
          "output_type": "stream",
          "name": "stdout",
          "text": [
            "hello\n"
          ]
        }
      ]
    },
    {
      "cell_type": "code",
      "source": [
        "## Create a dictionary with tuple keys and integer values. Print the dictionary.\n",
        "\n",
        "My_dict = {(1,):1,(2,):2,(3,):3,(4,):4,(5,):5}\n",
        "print(My_dict)"
      ],
      "metadata": {
        "colab": {
          "base_uri": "https://localhost:8080/"
        },
        "id": "P3mDGTtPEWEe",
        "outputId": "579e37df-e317-4bab-8f3e-dd01a6512571"
      },
      "id": "P3mDGTtPEWEe",
      "execution_count": null,
      "outputs": [
        {
          "output_type": "stream",
          "name": "stdout",
          "text": [
            "{(1,): 1, (2,): 2, (3,): 3, (4,): 4, (5,): 5}\n"
          ]
        }
      ]
    },
    {
      "cell_type": "code",
      "source": [
        "## Create a nested tuple and iterate over the elements, printing each element.\n",
        "\n",
        "nested_tuple = ((1, 2, 3), ('a', 'b', 'c'), (True, False))\n",
        "\n",
        "for element in nested_tuple:\n",
        "    print(element)"
      ],
      "metadata": {
        "colab": {
          "base_uri": "https://localhost:8080/"
        },
        "id": "nunV5plXFJeZ",
        "outputId": "32f06ca3-c605-44b1-9d47-59e39f0e7cba"
      },
      "id": "nunV5plXFJeZ",
      "execution_count": null,
      "outputs": [
        {
          "output_type": "stream",
          "name": "stdout",
          "text": [
            "(1, 2, 3)\n",
            "('a', 'b', 'c')\n",
            "(True, False)\n"
          ]
        }
      ]
    },
    {
      "cell_type": "code",
      "source": [
        "## Create a tuple with duplicate elements. Convert it to a set to remove duplicates and print the resulting set.\n",
        "\n",
        "My_tuple = (1,2,3,3,4,5,6,6,7,8,9,10,3,4,2,5,6,)\n",
        "My_set = set(My_tuple)\n",
        "print(My_set)"
      ],
      "metadata": {
        "colab": {
          "base_uri": "https://localhost:8080/"
        },
        "id": "jdubHGQSFnTL",
        "outputId": "5889cb3a-41c7-4d68-a2f3-efb757d731f0"
      },
      "id": "jdubHGQSFnTL",
      "execution_count": null,
      "outputs": [
        {
          "output_type": "stream",
          "name": "stdout",
          "text": [
            "{1, 2, 3, 4, 5, 6, 7, 8, 9, 10}\n"
          ]
        }
      ]
    },
    {
      "cell_type": "code",
      "source": [
        "## Write functions that take a tuple and return the minimum, maximum, and sum of the elements. Print the results for a sample tuple.\n",
        "\n",
        "def min_max_sum(Tuple):\n",
        "    min_value = min(Tuple)\n",
        "    max_value = max(Tuple)\n",
        "    sum_value = sum(Tuple)\n",
        "    return min_value, max_value, sum_value"
      ],
      "metadata": {
        "id": "_wgYiS4UGBLc"
      },
      "id": "_wgYiS4UGBLc",
      "execution_count": null,
      "outputs": []
    },
    {
      "cell_type": "code",
      "source": [],
      "metadata": {
        "id": "7lgmC1VMGQ3a"
      },
      "id": "7lgmC1VMGQ3a",
      "execution_count": null,
      "outputs": []
    }
  ],
  "metadata": {
    "kernelspec": {
      "display_name": "Python 3",
      "language": "python",
      "name": "python3"
    },
    "language_info": {
      "codemirror_mode": {
        "name": "ipython",
        "version": 3
      },
      "file_extension": ".py",
      "mimetype": "text/x-python",
      "name": "python",
      "nbconvert_exporter": "python",
      "pygments_lexer": "ipython3",
      "version": "3.9.7"
    },
    "colab": {
      "provenance": [],
      "include_colab_link": true
    }
  },
  "nbformat": 4,
  "nbformat_minor": 5
}