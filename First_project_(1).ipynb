{
  "cells": [
    {
      "cell_type": "markdown",
      "metadata": {
        "id": "Wf6Xm1aRxHnu"
      },
      "source": [
        "# Lesson 1.2: Python Basics\n",
        "## Topics Covered:\n",
        "- Syntax and Semantics\n",
        "- Variables and Data Types\n",
        "- Basic Operators (Arithmetic, Comparison, Logical)\n"
      ]
    },
    {
      "cell_type": "markdown",
      "metadata": {
        "id": "qrFu72LZxHnw"
      },
      "source": [
        "## 1. Syntax and Semantics\n",
        "\n",
        "**Question 1:** Write a Python program to print \"Hello, World!\"."
      ]
    },
    {
      "cell_type": "code",
      "metadata": {
        "colab": {
          "base_uri": "https://localhost:8080/"
        },
        "id": "E_3KwSdhxHnw",
        "outputId": "896deb59-8aaf-4bb5-ec49-cf9e7c66cb1f"
      },
      "outputs": [
        {
          "output_type": "stream",
          "name": "stdout",
          "text": [
            "Hello, World!\n"
          ]
        }
      ],
      "source": [
        "# Your code here\n",
        "\n",
        "print(\"Hello, World!\")"
      ],
      "execution_count": 1
    },
    {
      "cell_type": "markdown",
      "metadata": {
        "id": "YtPVp3OmxHnw"
      },
      "source": [
        "**Question 2:** Write a Python program that takes a user input and prints it."
      ]
    },
    {
      "cell_type": "code",
      "metadata": {
        "colab": {
          "base_uri": "https://localhost:8080/"
        },
        "id": "4uraGGAnxHnw",
        "outputId": "4c73401c-28c5-4cda-8633-6a992a568b7d"
      },
      "outputs": [
        {
          "output_type": "stream",
          "name": "stdout",
          "text": [
            "Enter something: Gertrude\n",
            "Gertrude\n"
          ]
        }
      ],
      "source": [
        "# Your code here\n",
        "\n",
        "user_input = input(\"Enter something: \")\n",
        "print(user_input)"
      ],
      "execution_count": 2
    },
    {
      "cell_type": "markdown",
      "metadata": {
        "id": "_oBQrCXvxHnx"
      },
      "source": [
        "**Question 3:** Write a Python program to check if a number is positive, negative, or zero."
      ]
    },
    {
      "cell_type": "code",
      "metadata": {
        "colab": {
          "base_uri": "https://localhost:8080/"
        },
        "id": "dfjcXUsbxHnx",
        "outputId": "bd353278-2792-48e3-d069-10717ad5f7b9"
      },
      "outputs": [
        {
          "output_type": "stream",
          "name": "stdout",
          "text": [
            "Enter a number: 0\n",
            "The number is zero.\n"
          ]
        }
      ],
      "source": [
        "# Your code here\n",
        "number = float(input(\"Enter a number: \"))\n",
        "\n",
        "if number > 0:\n",
        "    print(\"The number is positive.\")\n",
        "elif number < 0:\n",
        "    print(\"The number is negative.\")\n",
        "else:\n",
        "    print(\"The number is zero.\")"
      ],
      "execution_count": 3
    },
    {
      "cell_type": "markdown",
      "metadata": {
        "id": "UMypcjnaxHnx"
      },
      "source": [
        "**Question 4:** Write a Python program to find the largest of three numbers."
      ]
    },
    {
      "cell_type": "code",
      "metadata": {
        "colab": {
          "base_uri": "https://localhost:8080/"
        },
        "id": "1hatzcc4xHnx",
        "outputId": "14a8357a-8b5b-47d6-8902-a9c9f8b7880a"
      },
      "outputs": [
        {
          "output_type": "stream",
          "name": "stdout",
          "text": [
            "Enter first number: 20\n",
            "Enter second number: 43\n",
            "Enter third number: 10\n",
            "The largest number is 43.0\n"
          ]
        }
      ],
      "source": [
        "# Your code here\n",
        "\n",
        "a = float(input(\"Enter first number: \"))\n",
        "b = float(input(\"Enter second number: \"))\n",
        "c = float(input(\"Enter third number: \"))\n",
        "\n",
        "if a >= b and a >= c:\n",
        "    largest = a\n",
        "elif b >= a and b >= c:\n",
        "    largest = b\n",
        "else:\n",
        "    largest = c\n",
        "\n",
        "print(\"The largest number is\", largest)"
      ],
      "execution_count": 4
    },
    {
      "cell_type": "markdown",
      "metadata": {
        "id": "1P_DM3Q5xHnx"
      },
      "source": [
        "**Question 5:** Write a Python program to calculate the factorial of a number."
      ]
    },
    {
      "cell_type": "code",
      "metadata": {
        "colab": {
          "base_uri": "https://localhost:8080/"
        },
        "id": "dUnv3cC8xHnx",
        "outputId": "aa493cb2-3e63-4982-e0c6-7c515e86adda"
      },
      "outputs": [
        {
          "output_type": "stream",
          "name": "stdout",
          "text": [
            "Enter a number: 5\n",
            "The factorial of 5 is 120\n"
          ]
        }
      ],
      "source": [
        "# Your code here\n",
        "\n",
        "number = int(input(\"Enter a number: \"))\n",
        "\n",
        "factorial = 1\n",
        "\n",
        "for a in range(1, number + 1):\n",
        "    factorial *= a\n",
        "\n",
        "print(\"The factorial of\", number, \"is\", factorial)"
      ],
      "execution_count": 14
    },
    {
      "cell_type": "markdown",
      "metadata": {
        "id": "z0j18MqHxHnx"
      },
      "source": [
        "## 2. Variables and Data Types\n",
        "\n",
        "**Question 6:** Create variables of different data types: integer, float, string, and boolean. Print their values and types."
      ]
    },
    {
      "cell_type": "code",
      "metadata": {
        "colab": {
          "base_uri": "https://localhost:8080/"
        },
        "id": "TKgOCrB6xHnx",
        "outputId": "a6044443-a75d-41fc-a49f-fdfb6a804b9b"
      },
      "outputs": [
        {
          "output_type": "stream",
          "name": "stdout",
          "text": [
            "Age: 29 <class 'int'>\n",
            "Height: 6.2 <class 'float'>\n",
            "Name: Simeon <class 'str'>\n",
            "Is student: True <class 'bool'>\n"
          ]
        }
      ],
      "source": [
        "# Your code here\n",
        "\n",
        "age = 29\n",
        "height = 6.2\n",
        "name = \"Simeon\"\n",
        "is_student = True\n",
        "\n",
        "print(\"Age:\", age, type(age))\n",
        "print(\"Height:\", height, type(height))\n",
        "print(\"Name:\", name, type(name))\n",
        "print(\"Is student:\", is_student, type(is_student))"
      ],
      "execution_count": 16
    },
    {
      "cell_type": "markdown",
      "metadata": {
        "id": "ZSWvMvcuxHnx"
      },
      "source": [
        "**Question 7:** Write a Python program to swap the values of two variables."
      ]
    },
    {
      "cell_type": "code",
      "metadata": {
        "colab": {
          "base_uri": "https://localhost:8080/"
        },
        "id": "qnppLCOuxHny",
        "outputId": "2414aeb1-76f7-4f2b-889d-8749d16cb9b9"
      },
      "outputs": [
        {
          "output_type": "stream",
          "name": "stdout",
          "text": [
            "Before swapping: a = 5 b = 10\n",
            "After swapping: a = 10 b = 5\n"
          ]
        }
      ],
      "source": [
        "# Your code here\n",
        "\n",
        "a = 5\n",
        "b = 10\n",
        "\n",
        "print(\"Before swapping: a =\", a, \"b =\", b)\n",
        "\n",
        "a, b = b, a\n",
        "\n",
        "print(\"After swapping: a =\", a, \"b =\", b)"
      ],
      "execution_count": 17
    },
    {
      "cell_type": "markdown",
      "metadata": {
        "id": "DpebvVt-xHny"
      },
      "source": [
        "**Question 8:** Write a Python program to convert Celsius to Fahrenheit."
      ]
    },
    {
      "cell_type": "code",
      "metadata": {
        "colab": {
          "base_uri": "https://localhost:8080/"
        },
        "id": "umYlpE0_xHny",
        "outputId": "47ea4895-6af8-43b0-eeb3-4bdf7056486b"
      },
      "outputs": [
        {
          "output_type": "stream",
          "name": "stdout",
          "text": [
            "Enter temperature in Celsius: 6\n",
            "6.0 degrees Celsius is equal to 42.8 degrees Fahrenheit\n"
          ]
        }
      ],
      "source": [
        "# Your code here\n",
        "\n",
        "celsius = float(input(\"Enter temperature in Celsius: \"))\n",
        "\n",
        "fahrenheit = (celsius * 9/5) + 32\n",
        "\n",
        "print(celsius, \"degrees Celsius is equal to\", fahrenheit, \"degrees Fahrenheit\")"
      ],
      "execution_count": 18
    },
    {
      "cell_type": "markdown",
      "metadata": {
        "id": "rbe3Ac01xHny"
      },
      "source": [
        "**Question 9:** Write a Python program to concatenate two strings."
      ]
    },
    {
      "cell_type": "code",
      "metadata": {
        "colab": {
          "base_uri": "https://localhost:8080/"
        },
        "id": "yRomtBlTxHny",
        "outputId": "5c72ebda-806c-4362-a301-7a33b80c6660"
      },
      "outputs": [
        {
          "output_type": "stream",
          "name": "stdout",
          "text": [
            "Enter your first name: Simeon\n",
            "Enter your last name: Ugwu\n",
            "Your full name is Simeon Ugwu\n"
          ]
        }
      ],
      "source": [
        "# Your code here\n",
        "\n",
        "first_name = input(\"Enter your first name: \")\n",
        "last_name = input(\"Enter your last name: \")\n",
        "\n",
        "full_name = first_name + \" \" + last_name\n",
        "\n",
        "print(\"Your full name is\", full_name)"
      ],
      "execution_count": 21
    },
    {
      "cell_type": "markdown",
      "metadata": {
        "id": "smKMoulXxHny"
      },
      "source": [
        "**Question 10:** Write a Python program to check if a variable is of a specific data type."
      ]
    },
    {
      "cell_type": "code",
      "metadata": {
        "colab": {
          "base_uri": "https://localhost:8080/"
        },
        "id": "rYDHSm-jxHny",
        "outputId": "0943bd6c-9754-4b72-e67c-5803dbfba479"
      },
      "outputs": [
        {
          "output_type": "stream",
          "name": "stdout",
          "text": [
            "<class 'int'>\n",
            "<class 'float'>\n",
            "<class 'str'>\n",
            "<class 'bool'>\n"
          ]
        }
      ],
      "source": [
        "# Your code here\n",
        "\n",
        "a = 10\n",
        "b = 5.6\n",
        "c = \"Hello\"\n",
        "d = True\n",
        "\n",
        "print(type(a))\n",
        "print(type(b))\n",
        "print(type(c))\n",
        "print(type(d))"
      ],
      "execution_count": 23
    },
    {
      "cell_type": "markdown",
      "metadata": {
        "id": "9sBDcZfPxHny"
      },
      "source": [
        "## 3. Basic Operators (Arithmetic, Comparison, Logical)\n",
        "\n",
        "**Question 11:** Write a Python program to perform arithmetic operations: addition, subtraction, multiplication, and division."
      ]
    },
    {
      "cell_type": "code",
      "metadata": {
        "colab": {
          "base_uri": "https://localhost:8080/"
        },
        "id": "qwQCgazzxHny",
        "outputId": "55514317-4639-4f17-f67f-fece69697a50"
      },
      "outputs": [
        {
          "output_type": "stream",
          "name": "stdout",
          "text": [
            "Enter first number: 2\n",
            "Enter second number: 5.3\n",
            "Addition: 7.3\n",
            "Subtraction: -3.3\n",
            "Multiplication: 10.6\n",
            "Division: 0.37735849056603776\n"
          ]
        }
      ],
      "source": [
        "# Your code here\n",
        "\n",
        "a = float(input(\"Enter first number: \"))\n",
        "b = float(input(\"Enter second number: \"))\n",
        "\n",
        "print(\"Addition:\", a + b)\n",
        "print(\"Subtraction:\", a - b)\n",
        "print(\"Multiplication:\", a * b)\n",
        "print(\"Division:\", a / b)"
      ],
      "execution_count": 24
    },
    {
      "cell_type": "markdown",
      "metadata": {
        "id": "BoQkJECexHnz"
      },
      "source": [
        "**Question 12:** Write a Python program to demonstrate comparison operators: equal to, not equal to, greater than, less than."
      ]
    },
    {
      "cell_type": "code",
      "metadata": {
        "colab": {
          "base_uri": "https://localhost:8080/"
        },
        "id": "eG8_BFgxxHnz",
        "outputId": "1bce4417-882a-40c3-803d-64f4f61e0571"
      },
      "outputs": [
        {
          "output_type": "stream",
          "name": "stdout",
          "text": [
            "Enter first number: 5\n",
            "Enter second number: 10\n",
            "Equal to: False\n",
            "Not equal to: True\n",
            "greater than: False\n",
            "less than: True\n"
          ]
        }
      ],
      "source": [
        "# Your code here\n",
        "\n",
        "a = float(input(\"Enter first number: \"))\n",
        "b = float(input(\"Enter second number: \"))\n",
        "\n",
        "print(\"Equal to:\", a == b)\n",
        "print(\"Not equal to:\", a != b)\n",
        "print(\"greater than:\", a>b)\n",
        "print(\"less than:\", a<b)"
      ],
      "execution_count": 25
    },
    {
      "cell_type": "code",
      "source": [
        "a=5\n",
        "b=10\n",
        "\n",
        "print(\"a==b:\", a==b)\n",
        "print(\"a!=b:\", a!=b)\n",
        "print(\"a>b:\", a>b)\n",
        "print(\"a<b:\", a<b)\n",
        ""
      ],
      "metadata": {
        "colab": {
          "base_uri": "https://localhost:8080/"
        },
        "id": "riuKCe1sIoZX",
        "outputId": "12dc3892-f91b-46bf-b2c2-1238898a6ee9"
      },
      "execution_count": 27,
      "outputs": [
        {
          "output_type": "stream",
          "name": "stdout",
          "text": [
            "a==b: False\n",
            "a!=b: True\n",
            "a>b: False\n",
            "a<b: True\n"
          ]
        }
      ]
    },
    {
      "cell_type": "markdown",
      "metadata": {
        "id": "DzMcZrEoxHnz"
      },
      "source": [
        "**Question 13:** Write a Python program to demonstrate logical operators: and, or, not."
      ]
    },
    {
      "cell_type": "code",
      "metadata": {
        "colab": {
          "base_uri": "https://localhost:8080/"
        },
        "id": "Ogkh8ma7xHnz",
        "outputId": "f187d7ca-6e79-4b53-abc2-e0f8f7b7ab8a"
      },
      "outputs": [
        {
          "output_type": "stream",
          "name": "stdout",
          "text": [
            "a and b: False\n",
            "a or b: True\n",
            "not a: True\n"
          ]
        }
      ],
      "source": [
        "# Your code here\n",
        "\n",
        "a = False\n",
        "b = True\n",
        "\n",
        "print(\"a and b:\", a and b)\n",
        "print(\"a or b:\", a or b)\n",
        "print(\"not a:\", not a)"
      ],
      "execution_count": 32
    },
    {
      "cell_type": "markdown",
      "metadata": {
        "id": "wFdNgA_uxHnz"
      },
      "source": [
        "**Question 14:** Write a Python program to calculate the square of a number."
      ]
    },
    {
      "cell_type": "code",
      "metadata": {
        "colab": {
          "base_uri": "https://localhost:8080/"
        },
        "id": "eeTegfLHxHnz",
        "outputId": "08a2af70-a081-4e08-df79-4f9d86240852"
      },
      "outputs": [
        {
          "output_type": "stream",
          "name": "stdout",
          "text": [
            "Enter a number: 100\n",
            "The square of 100.0 is 10000.0\n"
          ]
        }
      ],
      "source": [
        "# Your code here\n",
        "\n",
        "number = float(input(\"Enter a number: \"))\n",
        "\n",
        "square = number ** 2\n",
        "\n",
        "print(\"The square of\", number, \"is\", square)"
      ],
      "execution_count": 36
    },
    {
      "cell_type": "markdown",
      "metadata": {
        "id": "56tHgVZjxHnz"
      },
      "source": [
        "**Question 15:** Write a Python program to check if a number is even or odd."
      ]
    },
    {
      "cell_type": "code",
      "metadata": {
        "colab": {
          "base_uri": "https://localhost:8080/"
        },
        "id": "ZkFcMUhTxHnz",
        "outputId": "15473b03-b551-46f1-c095-0496c7579979"
      },
      "outputs": [
        {
          "output_type": "stream",
          "name": "stdout",
          "text": [
            "Enter a number: 7\n",
            "7 is odd\n"
          ]
        }
      ],
      "source": [
        "# Your code here\n",
        "\n",
        "number = int(input(\"Enter a number: \"))\n",
        "\n",
        "if number % 2 == 0:\n",
        "    print(number, \"is even\")\n",
        "else:\n",
        "    print(number, \"is odd\")"
      ],
      "execution_count": 37
    },
    {
      "cell_type": "markdown",
      "metadata": {
        "id": "MvKtALdUxHnz"
      },
      "source": [
        "**Question 16:** Write a Python program to find the sum of the first n natural numbers."
      ]
    },
    {
      "cell_type": "code",
      "metadata": {
        "colab": {
          "base_uri": "https://localhost:8080/"
        },
        "id": "ZEOpKrEQxHnz",
        "outputId": "bb90a955-426c-49ad-ee28-2a4f277c4aed"
      },
      "outputs": [
        {
          "output_type": "stream",
          "name": "stdout",
          "text": [
            "Enter a number: 5\n",
            "The sum of the first 5 natural numbers is 15\n"
          ]
        }
      ],
      "source": [
        "# Your code here\n",
        "\n",
        "n = int(input(\"Enter a number: \"))\n",
        "\n",
        "sum = 0\n",
        "\n",
        "for i in range(1, n + 1):\n",
        "    sum += i\n",
        "\n",
        "print(\"The sum of the first\", n, \"natural numbers is\", sum)"
      ],
      "execution_count": 38
    },
    {
      "cell_type": "markdown",
      "metadata": {
        "id": "HeCbyL_4xHnz"
      },
      "source": [
        "**Question 17:** Write a Python program to check if a year is a leap year."
      ]
    },
    {
      "cell_type": "code",
      "metadata": {
        "colab": {
          "base_uri": "https://localhost:8080/"
        },
        "id": "jeWXLiOVxHnz",
        "outputId": "d54dd434-7360-4adc-fca3-48a32a2578ac"
      },
      "outputs": [
        {
          "output_type": "stream",
          "name": "stdout",
          "text": [
            "Enter a year: 2002\n",
            "2002 is not a leap year\n"
          ]
        }
      ],
      "source": [
        "# Your code here\n",
        "\n",
        "year = int(input(\"Enter a year: \"))\n",
        "\n",
        "if (year % 4 == 0 and year % 100 != 0) or (year % 400 == 0):\n",
        "    print(year, \"is a leap year\")\n",
        "else:\n",
        "    print(year, \"is not a leap year\")\n"
      ],
      "execution_count": 42
    },
    {
      "cell_type": "markdown",
      "metadata": {
        "id": "PAbw8bCbxHnz"
      },
      "source": [
        "**Question 18:** Write a Python program to reverse a string."
      ]
    },
    {
      "cell_type": "code",
      "metadata": {
        "colab": {
          "base_uri": "https://localhost:8080/"
        },
        "id": "-viG6L2JxHnz",
        "outputId": "e927dc8d-0c4c-4eb7-e624-56cf70e3804c"
      },
      "outputs": [
        {
          "output_type": "stream",
          "name": "stdout",
          "text": [
            "Enter a string: Hello Simeon\n",
            "The reversed string is noemiS olleH\n"
          ]
        }
      ],
      "source": [
        "# Your code here\n",
        "\n",
        "string = input(\"Enter a string: \")\n",
        "\n",
        "reversed_string = string[::-1]\n",
        "\n",
        "print(\"The reversed string is\", reversed_string)"
      ],
      "execution_count": 43
    },
    {
      "cell_type": "markdown",
      "metadata": {
        "id": "-qZ3Q3gxxHn0"
      },
      "source": [
        "**Question 19:** Write a Python program to check if a string is a palindrome."
      ]
    },
    {
      "cell_type": "code",
      "metadata": {
        "colab": {
          "base_uri": "https://localhost:8080/"
        },
        "id": "H0Ba-2tsxHn0",
        "outputId": "6455cca1-d2d3-43f9-9685-89702aeb0760"
      },
      "outputs": [
        {
          "output_type": "stream",
          "name": "stdout",
          "text": [
            "Enter a string: level\n",
            "level is a palindrome\n"
          ]
        }
      ],
      "source": [
        "# Your code here\n",
        "\n",
        "string = input(\"Enter a string: \")\n",
        "\n",
        "if string == string[::-1]:\n",
        "    print(string, \"is a palindrome\")\n",
        "else:\n",
        "    print(string, \"is not a palindrome\")"
      ],
      "execution_count": 47
    },
    {
      "cell_type": "markdown",
      "metadata": {
        "id": "qS53Qf-FxHn8"
      },
      "source": [
        "**Question 20:** Write a Python program to sort a list of numbers in ascending order."
      ]
    },
    {
      "cell_type": "code",
      "metadata": {
        "colab": {
          "base_uri": "https://localhost:8080/"
        },
        "id": "mL3lS2LUxHn8",
        "outputId": "a44e19f7-83cb-4daf-fc3b-d7a15ae1b327"
      },
      "outputs": [
        {
          "output_type": "stream",
          "name": "stdout",
          "text": [
            "The sorted list is [1, 2, 5, 7, 9]\n"
          ]
        }
      ],
      "source": [
        "# Your code here\n",
        "\n",
        "numbers = [5, 2, 9, 1, 7]\n",
        "\n",
        "numbers.sort()\n",
        "\n",
        "print(\"The sorted list is\", numbers)"
      ],
      "execution_count": 48
    },
    {
      "cell_type": "code",
      "source": [],
      "metadata": {
        "id": "rJZzaBN3RdOk"
      },
      "execution_count": null,
      "outputs": []
    }
  ],
  "metadata": {
    "kernelspec": {
      "display_name": "Python 3",
      "language": "python",
      "name": "python3"
    },
    "language_info": {
      "codemirror_mode": {
        "name": "ipython",
        "version": 3
      },
      "file_extension": ".py",
      "mimetype": "text/x-python",
      "name": "python",
      "nbconvert_exporter": "python",
      "pygments_lexer": "ipython3",
      "version": "3.8.5"
    },
    "colab": {
      "provenance": []
    }
  },
  "nbformat": 4,
  "nbformat_minor": 0
}