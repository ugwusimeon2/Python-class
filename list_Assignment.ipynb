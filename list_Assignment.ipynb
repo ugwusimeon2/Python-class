{
  "cells": [
    {
      "cell_type": "markdown",
      "metadata": {
        "id": "view-in-github",
        "colab_type": "text"
      },
      "source": [
        "<a href=\"https://colab.research.google.com/github/ugwusimeon2/Python-class/blob/main/list_Assignment.ipynb\" target=\"_parent\"><img src=\"https://colab.research.google.com/assets/colab-badge.svg\" alt=\"Open In Colab\"/></a>"
      ]
    },
    {
      "cell_type": "markdown",
      "metadata": {
        "id": "iPWXJNRGbI9F"
      },
      "source": [
        "# Module 3: Data Structures Assignments\n",
        "## Lesson 3.1: Lists\n",
        "### Assignment 1: Creating and Accessing Lists\n",
        "\n",
        "Create a list of the first 20 positive integers. Print the list.\n",
        "\n",
        "### Assignment 2: Accessing List Elements\n",
        "\n",
        "Print the first, middle, and last elements of the list created in Assignment 1.\n",
        "\n",
        "### Assignment 3: List Slicing\n",
        "\n",
        "Print the first five elements, the last five elements, and the elements from index 5 to 15 of the list created in Assignment 1.\n",
        "\n",
        "### Assignment 4: List Comprehensions\n",
        "\n",
        "Create a new list containing the squares of the first 10 positive integers using a list comprehension. Print the new list.\n",
        "\n",
        "### Assignment 5: Filtering Lists\n",
        "\n",
        "Create a new list containing only the even numbers from the list created in Assignment 1 using a list comprehension. Print the new list.\n",
        "\n",
        "### Assignment 6: List Methods\n",
        "\n",
        "Create a list of random numbers and sort it in ascending and descending order. Remove the duplicates from the list and print the modified list.\n",
        "\n",
        "### Assignment 7: Nested Lists\n",
        "\n",
        "Create a nested list representing a 3x3 matrix and print the matrix. Access and print the element at the second row and third column.\n",
        "\n",
        "### Assignment 8: List of Dictionaries\n",
        "\n",
        "Create a list of dictionaries where each dictionary represents a student with keys 'name' and 'score'. Sort the list of dictionaries by the 'score' in descending order and print the sorted list.\n",
        "\n",
        "### Assignment 9: Matrix Transposition\n",
        "\n",
        "Write a function that takes a 3x3 matrix (nested list) as input and returns its transpose. Print the original and transposed matrices.\n",
        "\n",
        "### Assignment 10: Flattening a Nested List\n",
        "\n",
        "Write a function that takes a nested list and flattens it into a single list. Print the original and flattened lists.\n",
        "\n",
        "### Assignment 11: List Manipulation\n",
        "\n",
        "Create a list of the first 10 positive integers. Remove the elements at indices 2, 4, and 6, and insert the element '99' at index 5. Print the modified list.\n",
        "\n",
        "### Assignment 12: List Zipping\n",
        "\n",
        "Create two lists of the same length. Use the `zip` function to combine these lists into a list of tuples and print the result.\n",
        "\n",
        "### Assignment 13: List Reversal\n",
        "\n",
        "Write a function that takes a list and returns a new list with the elements in reverse order. Print the original and reversed lists.\n",
        "\n",
        "### Assignment 14: List Rotation\n",
        "\n",
        "Write a function that rotates a list by n positions. Print the original and rotated lists.\n",
        "\n",
        "### Assignment 15: List Intersection\n",
        "\n",
        "Write a function that takes two lists and returns a new list containing only the elements that are present in both lists. Print the intersected list."
      ],
      "id": "iPWXJNRGbI9F"
    },
    {
      "cell_type": "code",
      "execution_count": 4,
      "metadata": {
        "colab": {
          "base_uri": "https://localhost:8080/"
        },
        "id": "9zco8cbrbI9H",
        "outputId": "91de8098-b47e-4ff1-fe8f-4913185f3a5e"
      },
      "outputs": [
        {
          "output_type": "stream",
          "name": "stdout",
          "text": [
            "[1, 2, 3, 4, 5, 6, 7, 8, 9, 10, 11, 12, 13, 14, 15, 16, 17, 18, 19, 20]\n"
          ]
        }
      ],
      "source": [
        "## Create a list of the first 20 positive integers. Print the list.\n",
        "\n",
        "My_list = [1,2,3,4,5,6,7,8,9,10,11,12,13,14,15,16,17,18,19,20]\n",
        "print(My_list)"
      ],
      "id": "9zco8cbrbI9H"
    },
    {
      "cell_type": "code",
      "source": [
        "## Print the first, middle, and last elements of the list created in Assignment 1.\n",
        "\n",
        "print(My_list[0])\n",
        "print(My_list[9])\n",
        "print(My_list[19])"
      ],
      "metadata": {
        "colab": {
          "base_uri": "https://localhost:8080/"
        },
        "id": "LLGi7aKzclsm",
        "outputId": "1cf6c8c6-a43e-494c-bfcb-a44805325fba"
      },
      "id": "LLGi7aKzclsm",
      "execution_count": 3,
      "outputs": [
        {
          "output_type": "stream",
          "name": "stdout",
          "text": [
            "1\n",
            "10\n",
            "20\n"
          ]
        }
      ]
    },
    {
      "cell_type": "code",
      "source": [
        "## Print the first five elements, the last five elements, and the elements from index 5 to 15 of the list created in Assignment 1.\n",
        "\n",
        "print(My_list[:5])\n",
        "print(My_list[15:])\n",
        "print(My_list[5:16])"
      ],
      "metadata": {
        "colab": {
          "base_uri": "https://localhost:8080/"
        },
        "id": "cS_uBERIdXK-",
        "outputId": "7dcb7f50-dd24-4558-f363-9e9dae25dcda"
      },
      "id": "cS_uBERIdXK-",
      "execution_count": 5,
      "outputs": [
        {
          "output_type": "stream",
          "name": "stdout",
          "text": [
            "[1, 2, 3, 4, 5]\n",
            "[16, 17, 18, 19, 20]\n",
            "[6, 7, 8, 9, 10, 11, 12, 13, 14, 15, 16]\n"
          ]
        }
      ]
    },
    {
      "cell_type": "code",
      "source": [
        "## Create a new list containing the squares of the first 10 positive integers using a list comprehension. Print the new list.\n",
        "\n",
        "squares = [x**2 for x in range(1,11)]\n",
        "print(squares)\n"
      ],
      "metadata": {
        "colab": {
          "base_uri": "https://localhost:8080/"
        },
        "id": "m5R76P2UeDWg",
        "outputId": "2204a897-bf6a-4d1c-918d-871d5402ff34"
      },
      "id": "m5R76P2UeDWg",
      "execution_count": 6,
      "outputs": [
        {
          "output_type": "stream",
          "name": "stdout",
          "text": [
            "[1, 4, 9, 16, 25, 36, 49, 64, 81, 100]\n"
          ]
        }
      ]
    },
    {
      "cell_type": "code",
      "source": [
        "## Create a new list containing only the even numbers from the list created in Assignment 1 using a list comprehension. Print the new list.\n",
        "\n",
        "Even_numbers = [x for x in My_list if x % 2 == 0]\n",
        "\n",
        "print(Even_numbers)"
      ],
      "metadata": {
        "colab": {
          "base_uri": "https://localhost:8080/"
        },
        "id": "jjdjuBOGhTxK",
        "outputId": "2f1a22da-91d7-4faa-9a1d-fcc2ac5e1246"
      },
      "id": "jjdjuBOGhTxK",
      "execution_count": 7,
      "outputs": [
        {
          "output_type": "stream",
          "name": "stdout",
          "text": [
            "[2, 4, 6, 8, 10, 12, 14, 16, 18, 20]\n"
          ]
        }
      ]
    },
    {
      "cell_type": "code",
      "source": [
        "## Create a list of random numbers and sort it in ascending and descending order. Remove the duplicates from the list and print the modified list.\n",
        "\n",
        "numbers = [5, 3, 8, 5, 2, 8, 1, 9, 3, 4, 4, 6, 7, 6, 10, 7]\n",
        "print(\"Original list:\", numbers)\n",
        "\n",
        "numbers.sort()\n",
        "print(\"Ascending order:\", numbers)\n",
        "\n",
        "numbers.sort(reverse=True)\n",
        "print(\"Descending order:\", numbers)\n",
        "\n",
        "numbers = list(set(numbers))\n",
        "print(\"List without duplicates:\", numbers)"
      ],
      "metadata": {
        "colab": {
          "base_uri": "https://localhost:8080/"
        },
        "id": "Sopbd6JdiDuG",
        "outputId": "27054fa6-25ad-4d80-b5c6-438689c09f70"
      },
      "id": "Sopbd6JdiDuG",
      "execution_count": 8,
      "outputs": [
        {
          "output_type": "stream",
          "name": "stdout",
          "text": [
            "Original list: [5, 3, 8, 5, 2, 8, 1, 9, 3, 4, 4, 6, 7, 6, 10, 7]\n",
            "Ascending order: [1, 2, 3, 3, 4, 4, 5, 5, 6, 6, 7, 7, 8, 8, 9, 10]\n",
            "Descending order: [10, 9, 8, 8, 7, 7, 6, 6, 5, 5, 4, 4, 3, 3, 2, 1]\n",
            "List without duplicates: [1, 2, 3, 4, 5, 6, 7, 8, 9, 10]\n"
          ]
        }
      ]
    },
    {
      "cell_type": "code",
      "source": [
        "## Create a nested list representing a 3x3 matrix and print the matrix. Access and print the element at the second row and third column.\n",
        "\n",
        "Matrix = [[1, 2, 3], [4, 5, 6], [7, 8, 9]]\n",
        "print(Matrix)\n",
        "for t in Matrix:\n",
        "    print(t)\n",
        "print(Matrix[1][2])"
      ],
      "metadata": {
        "colab": {
          "base_uri": "https://localhost:8080/"
        },
        "id": "76hZH-XujLOz",
        "outputId": "3f8bee36-1e98-479c-c419-a393dc98cdfd"
      },
      "id": "76hZH-XujLOz",
      "execution_count": 15,
      "outputs": [
        {
          "output_type": "stream",
          "name": "stdout",
          "text": [
            "[[1, 2, 3], [4, 5, 6], [7, 8, 9]]\n",
            "[1, 2, 3]\n",
            "[4, 5, 6]\n",
            "[7, 8, 9]\n",
            "6\n"
          ]
        }
      ]
    },
    {
      "cell_type": "code",
      "source": [
        "## Create a list of dictionaries where each dictionary represents a student with keys 'name' and 'score'. Sort the list of dictionaries by the 'score' in descending order and print the sorted list.\n",
        "\n",
        "students = [{\"name\": \"Alice\", \"score\": 85},{\"name\": \"Bob\", \"score\": 92},{\"name\": \"Charlie\", \"score\": 78}]\n",
        "sorted_students = sorted(students, key=lambda x: x[\"score\"], reverse=True)\n",
        "print(sorted_students)"
      ],
      "metadata": {
        "colab": {
          "base_uri": "https://localhost:8080/"
        },
        "id": "giEvz4NxlXsd",
        "outputId": "f9f07f54-5869-41e9-d104-6ef541fd11d6"
      },
      "id": "giEvz4NxlXsd",
      "execution_count": 16,
      "outputs": [
        {
          "output_type": "stream",
          "name": "stdout",
          "text": [
            "[{'name': 'Bob', 'score': 92}, {'name': 'Alice', 'score': 85}, {'name': 'Charlie', 'score': 78}]\n"
          ]
        }
      ]
    },
    {
      "cell_type": "code",
      "source": [
        "## Write a function that takes a 3x3 matrix (nested list) as input and returns its transpose. Print the original and transposed matrices.\n",
        "\n",
        "def transpose_matrix(matrix):\n",
        "    # Transpose using zip\n",
        "    transpose = [list(row) for row in zip(*matrix)]\n",
        "    return transpose\n",
        "\n",
        "# Example 3x3 matrix\n",
        "matrix = [[1, 2, 3],[4, 5, 6],[7, 8, 9]]\n",
        "\n",
        "# Call the function\n",
        "transposed = transpose_matrix(matrix)\n",
        "\n",
        "print(\"Original Matrix:\")\n",
        "for row in matrix:\n",
        "    print(row)\n",
        "\n",
        "print(\"Transposed Matrix:\")\n",
        "for row in transposed:\n",
        "    print(row)"
      ],
      "metadata": {
        "colab": {
          "base_uri": "https://localhost:8080/"
        },
        "id": "2QjKgKJmpIZx",
        "outputId": "ed5d55cc-8b95-4950-8efc-3e4baf8077cf"
      },
      "id": "2QjKgKJmpIZx",
      "execution_count": 18,
      "outputs": [
        {
          "output_type": "stream",
          "name": "stdout",
          "text": [
            "Original Matrix:\n",
            "[1, 2, 3]\n",
            "[4, 5, 6]\n",
            "[7, 8, 9]\n",
            "Transposed Matrix:\n",
            "[1, 4, 7]\n",
            "[2, 5, 8]\n",
            "[3, 6, 9]\n"
          ]
        }
      ]
    },
    {
      "cell_type": "code",
      "source": [
        "## Write a function that takes a nested list and flattens it into a single list. Print the original and flattened lists.\n",
        "\n",
        "def flatten_list(nested_list):\n",
        "    flat_list = []\n",
        "    for sublist in nested_list:\n",
        "        for item in sublist:\n",
        "            flat_list.append(item)\n",
        "    return flat_list\n",
        "nested = [[1, 2], [3, 4], [5, 6]]\n",
        "print(\"Original Nested List:\", nested)\n",
        "\n",
        "flattened = flatten_list(nested)\n",
        "print(\"Flattened List:\", flattened)"
      ],
      "metadata": {
        "colab": {
          "base_uri": "https://localhost:8080/"
        },
        "id": "TCSVO0aLvEE5",
        "outputId": "902a984d-8133-4c76-eeca-abe217afad6a"
      },
      "id": "TCSVO0aLvEE5",
      "execution_count": 20,
      "outputs": [
        {
          "output_type": "stream",
          "name": "stdout",
          "text": [
            "Original Nested List: [[1, 2], [3, 4], [5, 6]]\n",
            "Flattened List: [1, 2, 3, 4, 5, 6]\n"
          ]
        }
      ]
    },
    {
      "cell_type": "code",
      "source": [
        "## Create a list of the first 10 positive integers. Remove the elements at indices 2, 4, and 6, and insert the element '99' at index 5. Print the modified list.\n",
        "\n",
        "numbers = list(range(1, 11))   # [1,2,3,4,5,6,7,8,9,10]\n",
        "print(\"Original List:\", numbers)\n",
        "for index in [6, 4, 2]:\n",
        "    numbers.pop(index)\n",
        "numbers.insert(5, 99)\n",
        "print(\"Modified List:\", numbers)"
      ],
      "metadata": {
        "colab": {
          "base_uri": "https://localhost:8080/"
        },
        "id": "m048P5JJwc2o",
        "outputId": "b7e37699-eb92-4ed1-d410-01d09345cee0"
      },
      "id": "m048P5JJwc2o",
      "execution_count": 21,
      "outputs": [
        {
          "output_type": "stream",
          "name": "stdout",
          "text": [
            "Original List: [1, 2, 3, 4, 5, 6, 7, 8, 9, 10]\n",
            "Modified List: [1, 2, 4, 6, 8, 99, 9, 10]\n"
          ]
        }
      ]
    },
    {
      "cell_type": "code",
      "source": [
        "## Create two lists of the same length. Use the zip function to combine these lists into a list of tuples and print the result.\n",
        "\n",
        "names = [\"Alice\", \"Bob\", \"Charlie\"]\n",
        "scores = [85, 90, 78]\n",
        "combined = list(zip(names, scores))\n",
        "print(\"Combined List:\", combined)"
      ],
      "metadata": {
        "colab": {
          "base_uri": "https://localhost:8080/"
        },
        "id": "Vvq9i4ZG1CBQ",
        "outputId": "5640e1a6-e855-45e3-d227-f8687fcacc0b"
      },
      "id": "Vvq9i4ZG1CBQ",
      "execution_count": 23,
      "outputs": [
        {
          "output_type": "stream",
          "name": "stdout",
          "text": [
            "Combined List: [('Alice', 85), ('Bob', 90), ('Charlie', 78)]\n"
          ]
        }
      ]
    },
    {
      "cell_type": "code",
      "source": [
        "## Write a function that takes a list and returns a new list with the elements in reverse order. Print the original and reversed lists.\n",
        "\n",
        "def reverse_list(my_list):\n",
        "    return my_list[::-1]\n",
        "original = [1, 2, 3, 4, 5]\n",
        "reversed_list = reverse_list(original)\n",
        "\n",
        "print(\"Original List:\", original)\n",
        "print(\"Reversed List:\", reversed_list)"
      ],
      "metadata": {
        "colab": {
          "base_uri": "https://localhost:8080/"
        },
        "id": "p05Z5NI827p8",
        "outputId": "a54a18a8-60a4-47eb-e1fe-a9f84ee34a62"
      },
      "id": "p05Z5NI827p8",
      "execution_count": 24,
      "outputs": [
        {
          "output_type": "stream",
          "name": "stdout",
          "text": [
            "Original List: [1, 2, 3, 4, 5]\n",
            "Reversed List: [5, 4, 3, 2, 1]\n"
          ]
        }
      ]
    },
    {
      "cell_type": "code",
      "source": [
        "## Write a function that rotates a list by n positions. Print the original and rotated lists.\n",
        "\n",
        "def rotate_list(my_list, n):\n",
        "    n = n % len(my_list)\n",
        "    return my_list[n:] + my_list[:n]\n",
        "original = [1, 2, 3, 4, 5]\n",
        "print(\"Original List:\", original)\n",
        "\n",
        "rotated = rotate_list(original, 2)\n",
        "print(\"Rotated List:\", rotated)"
      ],
      "metadata": {
        "colab": {
          "base_uri": "https://localhost:8080/"
        },
        "id": "CwsBreio4JWJ",
        "outputId": "2815c24a-660a-4033-b23d-da6ac3926d61"
      },
      "id": "CwsBreio4JWJ",
      "execution_count": 25,
      "outputs": [
        {
          "output_type": "stream",
          "name": "stdout",
          "text": [
            "Original List: [1, 2, 3, 4, 5]\n",
            "Rotated List: [3, 4, 5, 1, 2]\n"
          ]
        }
      ]
    },
    {
      "cell_type": "code",
      "source": [
        "## Write a function that takes two lists and returns a new list containing only the elements that are present in both lists. Print the intersected list.\n",
        "\n",
        "def intersect_lists(list1, list2):\n",
        "    return [item for item in list1 if item in list2]\n",
        "a = [1, 2, 3, 4, 5]\n",
        "b = [4, 5, 6, 7, 8]\n",
        "intersected = intersect_lists(a, b)\n",
        "\n",
        "print(\"List 1:\", a)\n",
        "print(\"List 2:\", b)\n",
        "print(\"Intersected List:\", intersected)"
      ],
      "metadata": {
        "colab": {
          "base_uri": "https://localhost:8080/"
        },
        "id": "_gF7uPlS5JB7",
        "outputId": "4efcdc85-13f7-47ed-e5a9-6a22e2e34fbd"
      },
      "id": "_gF7uPlS5JB7",
      "execution_count": 26,
      "outputs": [
        {
          "output_type": "stream",
          "name": "stdout",
          "text": [
            "List 1: [1, 2, 3, 4, 5]\n",
            "List 2: [4, 5, 6, 7, 8]\n",
            "Intersected List: [4, 5]\n"
          ]
        }
      ]
    }
  ],
  "metadata": {
    "kernelspec": {
      "display_name": "Python 3",
      "language": "python",
      "name": "python3"
    },
    "language_info": {
      "codemirror_mode": {
        "name": "ipython",
        "version": 3
      },
      "file_extension": ".py",
      "mimetype": "text/x-python",
      "name": "python",
      "nbconvert_exporter": "python",
      "pygments_lexer": "ipython3",
      "version": "3.9.7"
    },
    "colab": {
      "provenance": [],
      "include_colab_link": true
    }
  },
  "nbformat": 4,
  "nbformat_minor": 5
}